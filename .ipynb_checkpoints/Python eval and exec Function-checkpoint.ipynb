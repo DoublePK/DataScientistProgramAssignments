{
 "cells": [
  {
   "cell_type": "markdown",
   "id": "01037df5",
   "metadata": {},
   "source": [
    "# Python Concepts for Data Science\n",
    "## The eval and exec Functions\n",
    "\n",
    "\n",
    "<p style = 'width : 90%;\n",
    "            font-size : 16px;\n",
    "            line-height : 1.4;'>\n",
    "    Python's <b>input</b> function produces a string from the user's keyboard input. If we wish to treat that input as a number, we can use the <b>int</b> or <b>float</b> function to make the necessary conversion:<br><br>\n",
    "    Here, whether the user enters 2 or 2.0, 'x' will be a variable with type floating point.\n",
    "</p>"
   ]
  },
  {
   "cell_type": "code",
   "execution_count": 4,
   "id": "5522f10e",
   "metadata": {},
   "outputs": [
    {
     "name": "stdout",
     "output_type": "stream",
     "text": [
      "Please enter a number: 2\n",
      "x =  2.0 type:  <class 'float'>\n"
     ]
    }
   ],
   "source": [
    "x = float(input('Please enter a number: '))\n",
    "print('x = ', x , 'type: ', type(x))"
   ]
  },
  {
   "cell_type": "markdown",
   "id": "0b43273c",
   "metadata": {},
   "source": [
    "<p style = 'width : 90%;\n",
    "            font-size : 16px;\n",
    "            line-height : 1.4;'>\n",
    "      <b>What if we wish 'x' to be of type integer if the user enters 2 and 'x' to be floating point if the user enters 2.0?</b> \n",
    "    <h3>eval Function</h3>\n",
    "    <br>\n",
    "    Python's <b>\"__builtins__\"</b> module provides an function named <b>eval</b> that attempts to evaluate a\n",
    "string in the same way that the interactive shell would evaluate it. <br><br>\n",
    "    when the user enters the text consisting of a single digit 10, the <b>eval</b> function interprets it as\n",
    "integer 10 and assigns an integer to the variable x1.\n",
    "</p>"
   ]
  },
  {
   "cell_type": "code",
   "execution_count": 6,
   "id": "76e5a833",
   "metadata": {},
   "outputs": [
    {
     "name": "stdout",
     "output_type": "stream",
     "text": [
      "Entry x1? 5\n",
      "x1 = 5  type: <class 'int'>\n",
      "Entry x2? 5.0\n",
      "x2 = 5.0  type: <class 'float'>\n",
      "Entry x3? \"Python\"\n",
      "x3 = Python  type: <class 'str'>\n",
      "Entry x4? x1\n",
      "x4 = 5  type: <class 'int'>\n",
      "Entry x5? x6\n"
     ]
    },
    {
     "ename": "NameError",
     "evalue": "name 'x6' is not defined",
     "output_type": "error",
     "traceback": [
      "\u001b[0;31m---------------------------------------------------------------------------\u001b[0m",
      "\u001b[0;31mNameError\u001b[0m                                 Traceback (most recent call last)",
      "\u001b[0;32m<ipython-input-6-c92dc82b52d8>\u001b[0m in \u001b[0;36m<module>\u001b[0;34m\u001b[0m\n\u001b[1;32m     16\u001b[0m \u001b[0;34m\u001b[0m\u001b[0m\n\u001b[1;32m     17\u001b[0m \u001b[0;31m#Example 5\u001b[0m\u001b[0;34m\u001b[0m\u001b[0;34m\u001b[0m\u001b[0;34m\u001b[0m\u001b[0m\n\u001b[0;32m---> 18\u001b[0;31m \u001b[0mx5\u001b[0m \u001b[0;34m=\u001b[0m \u001b[0meval\u001b[0m\u001b[0;34m(\u001b[0m\u001b[0minput\u001b[0m\u001b[0;34m(\u001b[0m\u001b[0;34m'Entry x5? '\u001b[0m\u001b[0;34m)\u001b[0m\u001b[0;34m)\u001b[0m\u001b[0;34m\u001b[0m\u001b[0;34m\u001b[0m\u001b[0m\n\u001b[0m\u001b[1;32m     19\u001b[0m \u001b[0mprint\u001b[0m\u001b[0;34m(\u001b[0m\u001b[0;34m'x5 ='\u001b[0m\u001b[0;34m,\u001b[0m \u001b[0mx5\u001b[0m\u001b[0;34m,\u001b[0m \u001b[0;34m' type:'\u001b[0m\u001b[0;34m,\u001b[0m \u001b[0mtype\u001b[0m\u001b[0;34m(\u001b[0m\u001b[0mx5\u001b[0m\u001b[0;34m)\u001b[0m\u001b[0;34m)\u001b[0m\u001b[0;34m\u001b[0m\u001b[0;34m\u001b[0m\u001b[0m\n",
      "\u001b[0;32m<string>\u001b[0m in \u001b[0;36m<module>\u001b[0;34m\u001b[0m\n",
      "\u001b[0;31mNameError\u001b[0m: name 'x6' is not defined"
     ]
    }
   ],
   "source": [
    "#Example 1\n",
    "x1 = eval(input('Entry x1? '))\n",
    "print('x1 =', x1, ' type:', type(x1))\n",
    "\n",
    "#Example 2\n",
    "x2 = eval(input('Entry x2? '))\n",
    "print('x2 =', x2, ' type:', type(x2))\n",
    "\n",
    "#Example 3\n",
    "x3 = eval(input('Entry x3? '))\n",
    "print('x3 =', x3, ' type:', type(x3))\n",
    "\n",
    "#Example 4\n",
    "x4 = eval(input('Entry x4? '))\n",
    "print('x4 =', x4, ' type:', type(x4))\n",
    "\n",
    "#Example 5\n",
    "x5 = eval(input('Entry x5? '))\n",
    "print('x5 =', x5, ' type:', type(x5))"
   ]
  },
  {
   "cell_type": "markdown",
   "id": "5cef35e6",
   "metadata": {},
   "source": [
    "<div style = 'width : 90%;\n",
    "              font-size : 16px;\n",
    "              line-height : 1.5;'>\n",
    "    <ol>\n",
    "        <li>when user enters a single digit 5, the <b>eval</b> function interprets it as integer 5 and assigns an integer to the variable x1</li>\n",
    "        <li>When the user enters the text 5.0, the assigned variable is a floating-point variable.</li>\n",
    "        <li>For x3, the user supplies the string \"Python\", and the variable’s type is string.</li>\n",
    "        <li>When user enters x1. The <b>eval</b> function evaluates as a reference to the variable x1 which reference to the integer 5</li>\n",
    "        <li>When user enters x6. the <b>eval</b> function treats x6 as a name and attempts to\n",
    "evaluate it. Since no variable named x6 exists, the eval function prints an error message</li>\n",
    "    </ol><br>\n",
    "    <p>User could enter multiple entries separated by commas, and the <b>eval</b> function would evaluate the text typed by the user as Python tuple.\n",
    "    </p>\n",
    "    \n",
    "</div>"
   ]
  },
  {
   "cell_type": "code",
   "execution_count": 7,
   "id": "c8c23a13",
   "metadata": {},
   "outputs": [
    {
     "name": "stdout",
     "output_type": "stream",
     "text": [
      "Please enter number 1, number 2: 1,2,3,4\n",
      "numbers = (1, 2, 3, 4)  type: <class 'tuple'>\n"
     ]
    }
   ],
   "source": [
    "numbers = eval(input('Please enter number 1, number 2: '))\n",
    "print('numbers =', numbers, ' type:', type(numbers))"
   ]
  },
  {
   "cell_type": "markdown",
   "id": "a9047b00",
   "metadata": {},
   "source": [
    "### exec Function\n",
    "\n",
    "<p  style = 'width : 90%;\n",
    "              font-size : 16px;\n",
    "              line-height : 1.5;'>\n",
    "    The <b>exec</b> function, also from the <b>__builtins__</b> module, is similar to the <b>evel</b> function. The <b>exec</b> function accepts a string parameter that consists of a Python source statement. The <b>exec</b> function interprets the statement and executes it.\n",
    "    </p>"
   ]
  },
  {
   "cell_type": "code",
   "execution_count": 2,
   "id": "0b7255c7",
   "metadata": {},
   "outputs": [
    {
     "name": "stdout",
     "output_type": "stream",
     "text": [
      ">>>from sys import exit\n",
      ">>>x = 4\n",
      ">>>y = 6\n",
      ">>>print(x + y)\n",
      "10\n",
      ">>>exit()\n"
     ]
    },
    {
     "ename": "SystemExit",
     "evalue": "",
     "output_type": "error",
     "traceback": [
      "An exception has occurred, use %tb to see the full traceback.\n",
      "\u001b[0;31mSystemExit\u001b[0m\n"
     ]
    }
   ],
   "source": [
    "while True:\n",
    "    exec(input(\">>>\"))"
   ]
  }
 ],
 "metadata": {
  "kernelspec": {
   "display_name": "Python 3",
   "language": "python",
   "name": "python3"
  },
  "language_info": {
   "codemirror_mode": {
    "name": "ipython",
    "version": 3
   },
   "file_extension": ".py",
   "mimetype": "text/x-python",
   "name": "python",
   "nbconvert_exporter": "python",
   "pygments_lexer": "ipython3",
   "version": "3.6.9"
  }
 },
 "nbformat": 4,
 "nbformat_minor": 5
}
