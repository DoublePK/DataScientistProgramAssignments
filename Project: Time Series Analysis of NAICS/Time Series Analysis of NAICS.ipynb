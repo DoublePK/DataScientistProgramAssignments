{
 "cells": [
  {
   "cell_type": "markdown",
   "metadata": {},
   "source": [
    "### Import Required Library"
   ]
  },
  {
   "cell_type": "code",
   "execution_count": 26,
   "metadata": {},
   "outputs": [],
   "source": [
    "import numpy as np\n",
    "import matplotlib.pyplot as plt\n",
    "import pandas as pd\n",
    "import seaborn as sns\n",
    "import re"
   ]
  },
  {
   "cell_type": "code",
   "execution_count": 27,
   "metadata": {},
   "outputs": [],
   "source": [
    "# file location\n",
    "database_loc = 'A_NEWLY_HIRED_DATA_ANALYST/'\n",
    "\n",
    "Raw_2_NAICS_Files = ['RTRA_Employ_2NAICS_97_99.csv', \n",
    "              'RTRA_Employ_2NAICS_00_05.csv', \n",
    "              'RTRA_Employ_2NAICS_06_10.csv', \n",
    "              'RTRA_Employ_2NAICS_11_15.csv',\n",
    "              'RTRA_Employ_2NAICS_16_20.csv']\n",
    "\n",
    "Raw_3_NAICS_Files =  ['RTRA_Employ_3NAICS_97_99.csv', \n",
    "                'RTRA_Employ_3NAICS_00_05.csv', \n",
    "                'RTRA_Employ_3NAICS_06_10.csv', \n",
    "                'RTRA_Employ_3NAICS_11_15.csv',\n",
    "                'RTRA_Employ_3NAICS_16_20.csv']\n",
    "\n",
    "Raw_4_NAICS_Files =  ['RTRA_Employ_4NAICS_97_99.csv', \n",
    "                'RTRA_Employ_4NAICS_00_05.csv', \n",
    "                'RTRA_Employ_4NAICS_06_10.csv', \n",
    "                'RTRA_Employ_4NAICS_11_15.csv',\n",
    "                'RTRA_Employ_4NAICS_16_20.csv']\n",
    "\n",
    "LMO_detailed_file = 'LMO_Detailed_Industries_by_NAICS.xlsx'\n",
    "\n",
    "OUTPUT_file = 'Data_Output_Template.xlsx'\n"
   ]
  },
  {
   "cell_type": "markdown",
   "metadata": {},
   "source": [
    "#### Function Defination for Reading and Cleaning Raw Data"
   ]
  },
  {
   "cell_type": "code",
   "execution_count": 28,
   "metadata": {},
   "outputs": [],
   "source": [
    "#define function for reading raw data file\n",
    "def Read_Raw_Datafile(file_loc, files):\n",
    "    output_df = pd.DataFrame()\n",
    "    \n",
    "    for file in files:\n",
    "        df = pd.read_csv(file_loc + file)\n",
    "        output_df = output_df.append(df, ignore_index = True)\n",
    "    return output_df"
   ]
  },
  {
   "cell_type": "code",
   "execution_count": 29,
   "metadata": {},
   "outputs": [],
   "source": [
    "# function defination for cleaning raw_data_file\n",
    "def Clean_Raw_Data(df):\n",
    "    df['NAICS_Codes'] = df.NAICS\\\n",
    "                               .map(lambda x:x.split('[')[1].strip(']').replace('-', ','))\n",
    "    df = df.drop(columns = 'NAICS', axis = 1)[df.SYEAR < 2019]\n",
    "    return df"
   ]
  },
  {
   "cell_type": "code",
   "execution_count": 30,
   "metadata": {},
   "outputs": [],
   "source": [
    "# function defination for Rading and Cleaning Raw Data File\n",
    "def Read_and_Clean_Data(file_loc, files):\n",
    "    \n",
    "    # Reading Raw Datafile\n",
    "    Raw_df = Read_Raw_Datafile(file_loc, files)\n",
    "    \n",
    "    # Cleaning Raw Datafile\n",
    "    Cleaned_df = Clean_Raw_Data(Raw_df)\n",
    "    return Cleaned_df"
   ]
  },
  {
   "cell_type": "markdown",
   "metadata": {},
   "source": [
    "### Read and Clean 2 NAICS Raw File"
   ]
  },
  {
   "cell_type": "code",
   "execution_count": 31,
   "metadata": {},
   "outputs": [
    {
     "data": {
      "text/html": [
       "<div>\n",
       "<style scoped>\n",
       "    .dataframe tbody tr th:only-of-type {\n",
       "        vertical-align: middle;\n",
       "    }\n",
       "\n",
       "    .dataframe tbody tr th {\n",
       "        vertical-align: top;\n",
       "    }\n",
       "\n",
       "    .dataframe thead th {\n",
       "        text-align: right;\n",
       "    }\n",
       "</style>\n",
       "<table border=\"1\" class=\"dataframe\">\n",
       "  <thead>\n",
       "    <tr style=\"text-align: right;\">\n",
       "      <th></th>\n",
       "      <th>SYEAR</th>\n",
       "      <th>SMTH</th>\n",
       "      <th>_EMPLOYMENT_</th>\n",
       "      <th>NAICS_Codes</th>\n",
       "    </tr>\n",
       "  </thead>\n",
       "  <tbody>\n",
       "    <tr>\n",
       "      <th>0</th>\n",
       "      <td>1997</td>\n",
       "      <td>1</td>\n",
       "      <td>129250</td>\n",
       "      <td>72</td>\n",
       "    </tr>\n",
       "    <tr>\n",
       "      <th>1</th>\n",
       "      <td>1997</td>\n",
       "      <td>1</td>\n",
       "      <td>58500</td>\n",
       "      <td>56</td>\n",
       "    </tr>\n",
       "    <tr>\n",
       "      <th>2</th>\n",
       "      <td>1997</td>\n",
       "      <td>1</td>\n",
       "      <td>62250</td>\n",
       "      <td>11</td>\n",
       "    </tr>\n",
       "    <tr>\n",
       "      <th>3</th>\n",
       "      <td>1997</td>\n",
       "      <td>1</td>\n",
       "      <td>38750</td>\n",
       "      <td>71</td>\n",
       "    </tr>\n",
       "    <tr>\n",
       "      <th>4</th>\n",
       "      <td>1997</td>\n",
       "      <td>1</td>\n",
       "      <td>118000</td>\n",
       "      <td>23</td>\n",
       "    </tr>\n",
       "  </tbody>\n",
       "</table>\n",
       "</div>"
      ],
      "text/plain": [
       "   SYEAR  SMTH  _EMPLOYMENT_ NAICS_Codes\n",
       "0   1997     1        129250          72\n",
       "1   1997     1         58500          56\n",
       "2   1997     1         62250          11\n",
       "3   1997     1         38750          71\n",
       "4   1997     1        118000          23"
      ]
     },
     "execution_count": 31,
     "metadata": {},
     "output_type": "execute_result"
    }
   ],
   "source": [
    "# Reading Raw 2NAICS file and clean the data\n",
    "NAICS_2_df = Read_and_Clean_Data(database_loc, Raw_2_NAICS_Files)\n",
    "NAICS_2_df.head()"
   ]
  },
  {
   "cell_type": "markdown",
   "metadata": {},
   "source": [
    "### Read and Clean 3 NAICS Raw file"
   ]
  },
  {
   "cell_type": "code",
   "execution_count": 32,
   "metadata": {},
   "outputs": [
    {
     "data": {
      "text/html": [
       "<div>\n",
       "<style scoped>\n",
       "    .dataframe tbody tr th:only-of-type {\n",
       "        vertical-align: middle;\n",
       "    }\n",
       "\n",
       "    .dataframe tbody tr th {\n",
       "        vertical-align: top;\n",
       "    }\n",
       "\n",
       "    .dataframe thead th {\n",
       "        text-align: right;\n",
       "    }\n",
       "</style>\n",
       "<table border=\"1\" class=\"dataframe\">\n",
       "  <thead>\n",
       "    <tr style=\"text-align: right;\">\n",
       "      <th></th>\n",
       "      <th>SYEAR</th>\n",
       "      <th>SMTH</th>\n",
       "      <th>_EMPLOYMENT_</th>\n",
       "      <th>NAICS_Codes</th>\n",
       "    </tr>\n",
       "  </thead>\n",
       "  <tbody>\n",
       "    <tr>\n",
       "      <th>0</th>\n",
       "      <td>1997</td>\n",
       "      <td>1</td>\n",
       "      <td>500</td>\n",
       "      <td>914</td>\n",
       "    </tr>\n",
       "    <tr>\n",
       "      <th>1</th>\n",
       "      <td>1997</td>\n",
       "      <td>1</td>\n",
       "      <td>24000</td>\n",
       "      <td>721</td>\n",
       "    </tr>\n",
       "    <tr>\n",
       "      <th>2</th>\n",
       "      <td>1997</td>\n",
       "      <td>1</td>\n",
       "      <td>56750</td>\n",
       "      <td>561</td>\n",
       "    </tr>\n",
       "    <tr>\n",
       "      <th>3</th>\n",
       "      <td>1997</td>\n",
       "      <td>1</td>\n",
       "      <td>17000</td>\n",
       "      <td>481</td>\n",
       "    </tr>\n",
       "    <tr>\n",
       "      <th>4</th>\n",
       "      <td>1997</td>\n",
       "      <td>1</td>\n",
       "      <td>40000</td>\n",
       "      <td>621</td>\n",
       "    </tr>\n",
       "  </tbody>\n",
       "</table>\n",
       "</div>"
      ],
      "text/plain": [
       "   SYEAR  SMTH  _EMPLOYMENT_ NAICS_Codes\n",
       "0   1997     1           500         914\n",
       "1   1997     1         24000         721\n",
       "2   1997     1         56750         561\n",
       "3   1997     1         17000         481\n",
       "4   1997     1         40000         621"
      ]
     },
     "execution_count": 32,
     "metadata": {},
     "output_type": "execute_result"
    }
   ],
   "source": [
    "NAICS_3_df = Read_Raw_Datafile(database_loc, Raw_3_NAICS_Files)\n",
    "NAICS_3_df = NAICS_3_df[NAICS_3_df.NAICS.map(lambda x: len(re.findall('[0-9][0-9][0-9]', x))>0)]\n",
    "NAICS_3_df = Clean_Raw_Data(NAICS_3_df)\n",
    "NAICS_3_df.head()"
   ]
  },
  {
   "cell_type": "markdown",
   "metadata": {},
   "source": [
    "### Read and Clean 4 NAICS Raw file"
   ]
  },
  {
   "cell_type": "code",
   "execution_count": 33,
   "metadata": {},
   "outputs": [
    {
     "data": {
      "text/html": [
       "<div>\n",
       "<style scoped>\n",
       "    .dataframe tbody tr th:only-of-type {\n",
       "        vertical-align: middle;\n",
       "    }\n",
       "\n",
       "    .dataframe tbody tr th {\n",
       "        vertical-align: top;\n",
       "    }\n",
       "\n",
       "    .dataframe thead th {\n",
       "        text-align: right;\n",
       "    }\n",
       "</style>\n",
       "<table border=\"1\" class=\"dataframe\">\n",
       "  <thead>\n",
       "    <tr style=\"text-align: right;\">\n",
       "      <th></th>\n",
       "      <th>SYEAR</th>\n",
       "      <th>SMTH</th>\n",
       "      <th>NAICS_Codes</th>\n",
       "      <th>_EMPLOYMENT_</th>\n",
       "    </tr>\n",
       "  </thead>\n",
       "  <tbody>\n",
       "    <tr>\n",
       "      <th>0</th>\n",
       "      <td>1997</td>\n",
       "      <td>1</td>\n",
       "      <td>1100</td>\n",
       "      <td>3500</td>\n",
       "    </tr>\n",
       "    <tr>\n",
       "      <th>1</th>\n",
       "      <td>1997</td>\n",
       "      <td>1</td>\n",
       "      <td>1111</td>\n",
       "      <td>250</td>\n",
       "    </tr>\n",
       "    <tr>\n",
       "      <th>2</th>\n",
       "      <td>1997</td>\n",
       "      <td>1</td>\n",
       "      <td>1112</td>\n",
       "      <td>500</td>\n",
       "    </tr>\n",
       "    <tr>\n",
       "      <th>3</th>\n",
       "      <td>1997</td>\n",
       "      <td>1</td>\n",
       "      <td>1113</td>\n",
       "      <td>2250</td>\n",
       "    </tr>\n",
       "    <tr>\n",
       "      <th>4</th>\n",
       "      <td>1997</td>\n",
       "      <td>1</td>\n",
       "      <td>1114</td>\n",
       "      <td>5250</td>\n",
       "    </tr>\n",
       "  </tbody>\n",
       "</table>\n",
       "</div>"
      ],
      "text/plain": [
       "   SYEAR  SMTH NAICS_Codes  _EMPLOYMENT_\n",
       "0   1997     1        1100          3500\n",
       "1   1997     1        1111           250\n",
       "2   1997     1        1112           500\n",
       "3   1997     1        1113          2250\n",
       "4   1997     1        1114          5250"
      ]
     },
     "execution_count": 33,
     "metadata": {},
     "output_type": "execute_result"
    }
   ],
   "source": [
    "NAICS_4_df= Read_Raw_Datafile(database_loc, Raw_4_NAICS_Files)\n",
    "NAICS_4_df.rename(columns = {'NAICS':'NAICS_Codes'},inplace=True)\n",
    "NAICS_4_df = NAICS_4_df[NAICS_4_df.SYEAR < 2019]\n",
    "NAICS_4_df = NAICS_4_df.astype({'NAICS_Codes':'str'})\n",
    "NAICS_4_df.head()"
   ]
  },
  {
   "cell_type": "markdown",
   "metadata": {},
   "source": [
    "### Read LMO industry data"
   ]
  },
  {
   "cell_type": "code",
   "execution_count": 34,
   "metadata": {},
   "outputs": [
    {
     "name": "stdout",
     "output_type": "stream",
     "text": [
      "                             LMO_Detailed_Industry      NAICS\n",
      "0                                            Farms  111 & 112\n",
      "1                    Fishing, hunting and trapping        114\n",
      "2                             Forestry and logging        113\n",
      "3  Support activities for agriculture and forestry        115\n",
      "4                           Oil and gas extraction        211\n",
      "<class 'pandas.core.frame.DataFrame'>\n",
      "RangeIndex: 59 entries, 0 to 58\n",
      "Data columns (total 2 columns):\n",
      " #   Column                 Non-Null Count  Dtype \n",
      "---  ------                 --------------  ----- \n",
      " 0   LMO_Detailed_Industry  59 non-null     object\n",
      " 1   NAICS                  59 non-null     object\n",
      "dtypes: object(2)\n",
      "memory usage: 1.0+ KB\n",
      "None\n"
     ]
    }
   ],
   "source": [
    "LMO_industry_data = pd.read_excel(database_loc + LMO_detailed_file)\n",
    "print(LMO_industry_data.head(5))\n",
    "print(LMO_industry_data.info())"
   ]
  },
  {
   "cell_type": "markdown",
   "metadata": {},
   "source": [
    "### Clean LMO industry data"
   ]
  },
  {
   "cell_type": "code",
   "execution_count": 35,
   "metadata": {},
   "outputs": [
    {
     "data": {
      "text/html": [
       "<div>\n",
       "<style scoped>\n",
       "    .dataframe tbody tr th:only-of-type {\n",
       "        vertical-align: middle;\n",
       "    }\n",
       "\n",
       "    .dataframe tbody tr th {\n",
       "        vertical-align: top;\n",
       "    }\n",
       "\n",
       "    .dataframe thead th {\n",
       "        text-align: right;\n",
       "    }\n",
       "</style>\n",
       "<table border=\"1\" class=\"dataframe\">\n",
       "  <thead>\n",
       "    <tr style=\"text-align: right;\">\n",
       "      <th></th>\n",
       "      <th>LMO_Detailed_Industry</th>\n",
       "      <th>NAICS_Codes</th>\n",
       "    </tr>\n",
       "  </thead>\n",
       "  <tbody>\n",
       "    <tr>\n",
       "      <th>0</th>\n",
       "      <td>Farms</td>\n",
       "      <td>111,112</td>\n",
       "    </tr>\n",
       "    <tr>\n",
       "      <th>1</th>\n",
       "      <td>Fishing, hunting and trapping</td>\n",
       "      <td>114</td>\n",
       "    </tr>\n",
       "    <tr>\n",
       "      <th>2</th>\n",
       "      <td>Forestry and logging</td>\n",
       "      <td>113</td>\n",
       "    </tr>\n",
       "    <tr>\n",
       "      <th>3</th>\n",
       "      <td>Support activities for agriculture and forestry</td>\n",
       "      <td>115</td>\n",
       "    </tr>\n",
       "    <tr>\n",
       "      <th>4</th>\n",
       "      <td>Oil and gas extraction</td>\n",
       "      <td>211</td>\n",
       "    </tr>\n",
       "  </tbody>\n",
       "</table>\n",
       "</div>"
      ],
      "text/plain": [
       "                             LMO_Detailed_Industry NAICS_Codes\n",
       "0                                            Farms     111,112\n",
       "1                    Fishing, hunting and trapping         114\n",
       "2                             Forestry and logging         113\n",
       "3  Support activities for agriculture and forestry         115\n",
       "4                           Oil and gas extraction         211"
      ]
     },
     "execution_count": 35,
     "metadata": {},
     "output_type": "execute_result"
    }
   ],
   "source": [
    "LMO_industry_data['NAICS_Codes'] = LMO_industry_data.NAICS.astype(str).str.replace(' & ', ',')\n",
    "LMO_industry_data = LMO_industry_data.drop(columns = 'NAICS', axis = 1)\n",
    "LMO_industry_data.head(5)"
   ]
  },
  {
   "cell_type": "code",
   "execution_count": 36,
   "metadata": {},
   "outputs": [],
   "source": [
    "# functin defination for adding date\n",
    "def add_date(df):\n",
    "    datetime_str = df.SYEAR.astype(str) + ' ' + df.SMTH.astype(str)\n",
    "    df['DATE'] = pd.to_datetime(datetime_str).dt.strftime('%Y-%m')\n",
    "    df.set_index('DATE', inplace = True)\n",
    "    return df"
   ]
  },
  {
   "cell_type": "code",
   "execution_count": 37,
   "metadata": {},
   "outputs": [],
   "source": [
    "# function defination for Merging LMO_datafile and RTRA file, \n",
    "def Merge_RTRA_and_LOM_data(cleaned_Raw_df, LMO_data):\n",
    "    df = cleaned_Raw_df.merge(LMO_data, on = 'NAICS_Codes', how = 'left').dropna()\n",
    "    \n",
    "    # add Date Column to file\n",
    "    df = add_date(df)\n",
    "    return df"
   ]
  },
  {
   "cell_type": "markdown",
   "metadata": {},
   "source": [
    "### Merging RTRA 2NAICS and LMO industry data"
   ]
  },
  {
   "cell_type": "code",
   "execution_count": 38,
   "metadata": {},
   "outputs": [
    {
     "data": {
      "text/html": [
       "<div>\n",
       "<style scoped>\n",
       "    .dataframe tbody tr th:only-of-type {\n",
       "        vertical-align: middle;\n",
       "    }\n",
       "\n",
       "    .dataframe tbody tr th {\n",
       "        vertical-align: top;\n",
       "    }\n",
       "\n",
       "    .dataframe thead th {\n",
       "        text-align: right;\n",
       "    }\n",
       "</style>\n",
       "<table border=\"1\" class=\"dataframe\">\n",
       "  <thead>\n",
       "    <tr style=\"text-align: right;\">\n",
       "      <th></th>\n",
       "      <th>SYEAR</th>\n",
       "      <th>SMTH</th>\n",
       "      <th>_EMPLOYMENT_</th>\n",
       "      <th>NAICS_Codes</th>\n",
       "      <th>LMO_Detailed_Industry</th>\n",
       "    </tr>\n",
       "    <tr>\n",
       "      <th>DATE</th>\n",
       "      <th></th>\n",
       "      <th></th>\n",
       "      <th></th>\n",
       "      <th></th>\n",
       "      <th></th>\n",
       "    </tr>\n",
       "  </thead>\n",
       "  <tbody>\n",
       "    <tr>\n",
       "      <th>1997-01</th>\n",
       "      <td>1997</td>\n",
       "      <td>1</td>\n",
       "      <td>118000</td>\n",
       "      <td>23</td>\n",
       "      <td>Construction</td>\n",
       "    </tr>\n",
       "    <tr>\n",
       "      <th>1997-01</th>\n",
       "      <td>1997</td>\n",
       "      <td>1</td>\n",
       "      <td>89250</td>\n",
       "      <td>81</td>\n",
       "      <td>Repair, personal and non-profit services</td>\n",
       "    </tr>\n",
       "    <tr>\n",
       "      <th>1997-01</th>\n",
       "      <td>1997</td>\n",
       "      <td>1</td>\n",
       "      <td>50750</td>\n",
       "      <td>53</td>\n",
       "      <td>Real estate rental and leasing</td>\n",
       "    </tr>\n",
       "    <tr>\n",
       "      <th>1997-01</th>\n",
       "      <td>1997</td>\n",
       "      <td>1</td>\n",
       "      <td>9750</td>\n",
       "      <td>22</td>\n",
       "      <td>Utilities</td>\n",
       "    </tr>\n",
       "    <tr>\n",
       "      <th>1997-01</th>\n",
       "      <td>1997</td>\n",
       "      <td>1</td>\n",
       "      <td>72000</td>\n",
       "      <td>41</td>\n",
       "      <td>Wholesale trade</td>\n",
       "    </tr>\n",
       "  </tbody>\n",
       "</table>\n",
       "</div>"
      ],
      "text/plain": [
       "         SYEAR  SMTH  _EMPLOYMENT_ NAICS_Codes  \\\n",
       "DATE                                             \n",
       "1997-01   1997     1        118000          23   \n",
       "1997-01   1997     1         89250          81   \n",
       "1997-01   1997     1         50750          53   \n",
       "1997-01   1997     1          9750          22   \n",
       "1997-01   1997     1         72000          41   \n",
       "\n",
       "                            LMO_Detailed_Industry  \n",
       "DATE                                               \n",
       "1997-01                              Construction  \n",
       "1997-01  Repair, personal and non-profit services  \n",
       "1997-01            Real estate rental and leasing  \n",
       "1997-01                                 Utilities  \n",
       "1997-01                           Wholesale trade  "
      ]
     },
     "execution_count": 38,
     "metadata": {},
     "output_type": "execute_result"
    }
   ],
   "source": [
    "Output_2NAICS_df =  Merge_RTRA_and_LOM_data(NAICS_2_df, LMO_industry_data)\n",
    "Output_2NAICS_df.head()"
   ]
  },
  {
   "cell_type": "markdown",
   "metadata": {},
   "source": [
    "### Merging RTRA 3NAICS and LMO industry data"
   ]
  },
  {
   "cell_type": "code",
   "execution_count": 39,
   "metadata": {},
   "outputs": [
    {
     "data": {
      "text/html": [
       "<div>\n",
       "<style scoped>\n",
       "    .dataframe tbody tr th:only-of-type {\n",
       "        vertical-align: middle;\n",
       "    }\n",
       "\n",
       "    .dataframe tbody tr th {\n",
       "        vertical-align: top;\n",
       "    }\n",
       "\n",
       "    .dataframe thead th {\n",
       "        text-align: right;\n",
       "    }\n",
       "</style>\n",
       "<table border=\"1\" class=\"dataframe\">\n",
       "  <thead>\n",
       "    <tr style=\"text-align: right;\">\n",
       "      <th></th>\n",
       "      <th>SYEAR</th>\n",
       "      <th>SMTH</th>\n",
       "      <th>_EMPLOYMENT_</th>\n",
       "      <th>NAICS_Codes</th>\n",
       "      <th>LMO_Detailed_Industry</th>\n",
       "    </tr>\n",
       "    <tr>\n",
       "      <th>DATE</th>\n",
       "      <th></th>\n",
       "      <th></th>\n",
       "      <th></th>\n",
       "      <th></th>\n",
       "      <th></th>\n",
       "    </tr>\n",
       "  </thead>\n",
       "  <tbody>\n",
       "    <tr>\n",
       "      <th>1997-01</th>\n",
       "      <td>1997</td>\n",
       "      <td>1</td>\n",
       "      <td>24000</td>\n",
       "      <td>721</td>\n",
       "      <td>Accommodation services</td>\n",
       "    </tr>\n",
       "    <tr>\n",
       "      <th>1997-01</th>\n",
       "      <td>1997</td>\n",
       "      <td>1</td>\n",
       "      <td>17000</td>\n",
       "      <td>481</td>\n",
       "      <td>Air transportation</td>\n",
       "    </tr>\n",
       "    <tr>\n",
       "      <th>1997-01</th>\n",
       "      <td>1997</td>\n",
       "      <td>1</td>\n",
       "      <td>40000</td>\n",
       "      <td>621</td>\n",
       "      <td>Ambulatory health care services</td>\n",
       "    </tr>\n",
       "    <tr>\n",
       "      <th>1997-01</th>\n",
       "      <td>1997</td>\n",
       "      <td>1</td>\n",
       "      <td>20000</td>\n",
       "      <td>713</td>\n",
       "      <td>Amusement, gambling and recreation industries</td>\n",
       "    </tr>\n",
       "    <tr>\n",
       "      <th>1997-01</th>\n",
       "      <td>1997</td>\n",
       "      <td>1</td>\n",
       "      <td>11750</td>\n",
       "      <td>332</td>\n",
       "      <td>Fabricated metal product manufacturing</td>\n",
       "    </tr>\n",
       "  </tbody>\n",
       "</table>\n",
       "</div>"
      ],
      "text/plain": [
       "         SYEAR  SMTH  _EMPLOYMENT_ NAICS_Codes  \\\n",
       "DATE                                             \n",
       "1997-01   1997     1         24000         721   \n",
       "1997-01   1997     1         17000         481   \n",
       "1997-01   1997     1         40000         621   \n",
       "1997-01   1997     1         20000         713   \n",
       "1997-01   1997     1         11750         332   \n",
       "\n",
       "                                 LMO_Detailed_Industry  \n",
       "DATE                                                    \n",
       "1997-01                         Accommodation services  \n",
       "1997-01                             Air transportation  \n",
       "1997-01                Ambulatory health care services  \n",
       "1997-01  Amusement, gambling and recreation industries  \n",
       "1997-01         Fabricated metal product manufacturing  "
      ]
     },
     "execution_count": 39,
     "metadata": {},
     "output_type": "execute_result"
    }
   ],
   "source": [
    "Output_3NAICS_df = Merge_RTRA_and_LOM_data(NAICS_3_df, LMO_industry_data)\n",
    "Output_3NAICS_df.head()"
   ]
  },
  {
   "cell_type": "markdown",
   "metadata": {},
   "source": [
    "### Merging RTRA 4 RTRA NAICS data and LMO industry data"
   ]
  },
  {
   "cell_type": "code",
   "execution_count": 40,
   "metadata": {},
   "outputs": [
    {
     "data": {
      "text/html": [
       "<div>\n",
       "<style scoped>\n",
       "    .dataframe tbody tr th:only-of-type {\n",
       "        vertical-align: middle;\n",
       "    }\n",
       "\n",
       "    .dataframe tbody tr th {\n",
       "        vertical-align: top;\n",
       "    }\n",
       "\n",
       "    .dataframe thead th {\n",
       "        text-align: right;\n",
       "    }\n",
       "</style>\n",
       "<table border=\"1\" class=\"dataframe\">\n",
       "  <thead>\n",
       "    <tr style=\"text-align: right;\">\n",
       "      <th></th>\n",
       "      <th>SYEAR</th>\n",
       "      <th>SMTH</th>\n",
       "      <th>NAICS_Codes</th>\n",
       "      <th>_EMPLOYMENT_</th>\n",
       "      <th>LMO_Detailed_Industry</th>\n",
       "    </tr>\n",
       "    <tr>\n",
       "      <th>DATE</th>\n",
       "      <th></th>\n",
       "      <th></th>\n",
       "      <th></th>\n",
       "      <th></th>\n",
       "      <th></th>\n",
       "    </tr>\n",
       "  </thead>\n",
       "  <tbody>\n",
       "    <tr>\n",
       "      <th>1997-01</th>\n",
       "      <td>1997</td>\n",
       "      <td>1</td>\n",
       "      <td>3366</td>\n",
       "      <td>3500</td>\n",
       "      <td>Ship and boat building</td>\n",
       "    </tr>\n",
       "    <tr>\n",
       "      <th>1997-01</th>\n",
       "      <td>1997</td>\n",
       "      <td>1</td>\n",
       "      <td>5413</td>\n",
       "      <td>27000</td>\n",
       "      <td>Architectural, engineering and related services</td>\n",
       "    </tr>\n",
       "    <tr>\n",
       "      <th>1997-01</th>\n",
       "      <td>1997</td>\n",
       "      <td>1</td>\n",
       "      <td>5415</td>\n",
       "      <td>18250</td>\n",
       "      <td>Computer systems design and related services</td>\n",
       "    </tr>\n",
       "    <tr>\n",
       "      <th>1997-01</th>\n",
       "      <td>1997</td>\n",
       "      <td>1</td>\n",
       "      <td>5416</td>\n",
       "      <td>16250</td>\n",
       "      <td>Management, scientific and technical consultin...</td>\n",
       "    </tr>\n",
       "    <tr>\n",
       "      <th>1997-01</th>\n",
       "      <td>1997</td>\n",
       "      <td>1</td>\n",
       "      <td>6111</td>\n",
       "      <td>78250</td>\n",
       "      <td>Elementary and secondary schools</td>\n",
       "    </tr>\n",
       "  </tbody>\n",
       "</table>\n",
       "</div>"
      ],
      "text/plain": [
       "         SYEAR  SMTH NAICS_Codes  _EMPLOYMENT_  \\\n",
       "DATE                                             \n",
       "1997-01   1997     1        3366          3500   \n",
       "1997-01   1997     1        5413         27000   \n",
       "1997-01   1997     1        5415         18250   \n",
       "1997-01   1997     1        5416         16250   \n",
       "1997-01   1997     1        6111         78250   \n",
       "\n",
       "                                     LMO_Detailed_Industry  \n",
       "DATE                                                        \n",
       "1997-01                             Ship and boat building  \n",
       "1997-01    Architectural, engineering and related services  \n",
       "1997-01       Computer systems design and related services  \n",
       "1997-01  Management, scientific and technical consultin...  \n",
       "1997-01                   Elementary and secondary schools  "
      ]
     },
     "execution_count": 40,
     "metadata": {},
     "output_type": "execute_result"
    }
   ],
   "source": [
    "Output_4NAICS_df =  Merge_RTRA_and_LOM_data(NAICS_4_df, LMO_industry_data)\n",
    "Output_4NAICS_df.head()"
   ]
  },
  {
   "cell_type": "markdown",
   "metadata": {},
   "source": [
    "### Merging all file from 1997 - 2018"
   ]
  },
  {
   "cell_type": "code",
   "execution_count": 41,
   "metadata": {},
   "outputs": [
    {
     "data": {
      "text/html": [
       "<div>\n",
       "<style scoped>\n",
       "    .dataframe tbody tr th:only-of-type {\n",
       "        vertical-align: middle;\n",
       "    }\n",
       "\n",
       "    .dataframe tbody tr th {\n",
       "        vertical-align: top;\n",
       "    }\n",
       "\n",
       "    .dataframe thead th {\n",
       "        text-align: right;\n",
       "    }\n",
       "</style>\n",
       "<table border=\"1\" class=\"dataframe\">\n",
       "  <thead>\n",
       "    <tr style=\"text-align: right;\">\n",
       "      <th></th>\n",
       "      <th>SYEAR</th>\n",
       "      <th>SMTH</th>\n",
       "      <th>_EMPLOYMENT_</th>\n",
       "      <th>NAICS_Codes</th>\n",
       "      <th>LMO_Detailed_Industry</th>\n",
       "    </tr>\n",
       "    <tr>\n",
       "      <th>DATE</th>\n",
       "      <th></th>\n",
       "      <th></th>\n",
       "      <th></th>\n",
       "      <th></th>\n",
       "      <th></th>\n",
       "    </tr>\n",
       "  </thead>\n",
       "  <tbody>\n",
       "    <tr>\n",
       "      <th>1997-01</th>\n",
       "      <td>1997</td>\n",
       "      <td>1</td>\n",
       "      <td>118000</td>\n",
       "      <td>23</td>\n",
       "      <td>Construction</td>\n",
       "    </tr>\n",
       "    <tr>\n",
       "      <th>1997-01</th>\n",
       "      <td>1997</td>\n",
       "      <td>1</td>\n",
       "      <td>89250</td>\n",
       "      <td>81</td>\n",
       "      <td>Repair, personal and non-profit services</td>\n",
       "    </tr>\n",
       "    <tr>\n",
       "      <th>1997-01</th>\n",
       "      <td>1997</td>\n",
       "      <td>1</td>\n",
       "      <td>50750</td>\n",
       "      <td>53</td>\n",
       "      <td>Real estate rental and leasing</td>\n",
       "    </tr>\n",
       "    <tr>\n",
       "      <th>1997-01</th>\n",
       "      <td>1997</td>\n",
       "      <td>1</td>\n",
       "      <td>9750</td>\n",
       "      <td>22</td>\n",
       "      <td>Utilities</td>\n",
       "    </tr>\n",
       "    <tr>\n",
       "      <th>1997-01</th>\n",
       "      <td>1997</td>\n",
       "      <td>1</td>\n",
       "      <td>72000</td>\n",
       "      <td>41</td>\n",
       "      <td>Wholesale trade</td>\n",
       "    </tr>\n",
       "  </tbody>\n",
       "</table>\n",
       "</div>"
      ],
      "text/plain": [
       "         SYEAR  SMTH  _EMPLOYMENT_ NAICS_Codes  \\\n",
       "DATE                                             \n",
       "1997-01   1997     1        118000          23   \n",
       "1997-01   1997     1         89250          81   \n",
       "1997-01   1997     1         50750          53   \n",
       "1997-01   1997     1          9750          22   \n",
       "1997-01   1997     1         72000          41   \n",
       "\n",
       "                            LMO_Detailed_Industry  \n",
       "DATE                                               \n",
       "1997-01                              Construction  \n",
       "1997-01  Repair, personal and non-profit services  \n",
       "1997-01            Real estate rental and leasing  \n",
       "1997-01                                 Utilities  \n",
       "1997-01                           Wholesale trade  "
      ]
     },
     "execution_count": 41,
     "metadata": {},
     "output_type": "execute_result"
    }
   ],
   "source": [
    "Output_NAICS_97_18 = pd.concat([Output_2NAICS_df, Output_3NAICS_df, Output_4NAICS_df])\n",
    "Output_NAICS_97_18.head()"
   ]
  },
  {
   "cell_type": "markdown",
   "metadata": {},
   "source": [
    "### Reading Output Data "
   ]
  },
  {
   "cell_type": "code",
   "execution_count": 42,
   "metadata": {},
   "outputs": [
    {
     "data": {
      "text/html": [
       "<div>\n",
       "<style scoped>\n",
       "    .dataframe tbody tr th:only-of-type {\n",
       "        vertical-align: middle;\n",
       "    }\n",
       "\n",
       "    .dataframe tbody tr th {\n",
       "        vertical-align: top;\n",
       "    }\n",
       "\n",
       "    .dataframe thead th {\n",
       "        text-align: right;\n",
       "    }\n",
       "</style>\n",
       "<table border=\"1\" class=\"dataframe\">\n",
       "  <thead>\n",
       "    <tr style=\"text-align: right;\">\n",
       "      <th></th>\n",
       "      <th>SYEAR</th>\n",
       "      <th>SMTH</th>\n",
       "      <th>LMO_Detailed_Industry</th>\n",
       "      <th>Employment</th>\n",
       "    </tr>\n",
       "    <tr>\n",
       "      <th>DATE</th>\n",
       "      <th></th>\n",
       "      <th></th>\n",
       "      <th></th>\n",
       "      <th></th>\n",
       "    </tr>\n",
       "  </thead>\n",
       "  <tbody>\n",
       "    <tr>\n",
       "      <th>1997-01</th>\n",
       "      <td>1997</td>\n",
       "      <td>1</td>\n",
       "      <td>Accommodation services</td>\n",
       "      <td>NaN</td>\n",
       "    </tr>\n",
       "    <tr>\n",
       "      <th>1997-01</th>\n",
       "      <td>1997</td>\n",
       "      <td>1</td>\n",
       "      <td>Air transportation</td>\n",
       "      <td>NaN</td>\n",
       "    </tr>\n",
       "    <tr>\n",
       "      <th>1997-01</th>\n",
       "      <td>1997</td>\n",
       "      <td>1</td>\n",
       "      <td>Ambulatory health care services</td>\n",
       "      <td>NaN</td>\n",
       "    </tr>\n",
       "    <tr>\n",
       "      <th>1997-01</th>\n",
       "      <td>1997</td>\n",
       "      <td>1</td>\n",
       "      <td>Amusement, gambling and recreation industries</td>\n",
       "      <td>NaN</td>\n",
       "    </tr>\n",
       "    <tr>\n",
       "      <th>1997-01</th>\n",
       "      <td>1997</td>\n",
       "      <td>1</td>\n",
       "      <td>Architectural, engineering and related services</td>\n",
       "      <td>NaN</td>\n",
       "    </tr>\n",
       "  </tbody>\n",
       "</table>\n",
       "</div>"
      ],
      "text/plain": [
       "         SYEAR  SMTH                            LMO_Detailed_Industry  \\\n",
       "DATE                                                                    \n",
       "1997-01   1997     1                           Accommodation services   \n",
       "1997-01   1997     1                               Air transportation   \n",
       "1997-01   1997     1                  Ambulatory health care services   \n",
       "1997-01   1997     1    Amusement, gambling and recreation industries   \n",
       "1997-01   1997     1  Architectural, engineering and related services   \n",
       "\n",
       "         Employment  \n",
       "DATE                 \n",
       "1997-01         NaN  \n",
       "1997-01         NaN  \n",
       "1997-01         NaN  \n",
       "1997-01         NaN  \n",
       "1997-01         NaN  "
      ]
     },
     "execution_count": 42,
     "metadata": {},
     "output_type": "execute_result"
    }
   ],
   "source": [
    "Output_df = pd.read_excel(database_loc + OUTPUT_file)\n",
    "Output_df = add_date(Output_df)\n",
    "Output_df.head()"
   ]
  },
  {
   "cell_type": "markdown",
   "metadata": {},
   "source": [
    "### Merging all together"
   ]
  },
  {
   "cell_type": "code",
   "execution_count": 43,
   "metadata": {
    "scrolled": true
   },
   "outputs": [
    {
     "data": {
      "text/html": [
       "<div>\n",
       "<style scoped>\n",
       "    .dataframe tbody tr th:only-of-type {\n",
       "        vertical-align: middle;\n",
       "    }\n",
       "\n",
       "    .dataframe tbody tr th {\n",
       "        vertical-align: top;\n",
       "    }\n",
       "\n",
       "    .dataframe thead th {\n",
       "        text-align: right;\n",
       "    }\n",
       "</style>\n",
       "<table border=\"1\" class=\"dataframe\">\n",
       "  <thead>\n",
       "    <tr style=\"text-align: right;\">\n",
       "      <th></th>\n",
       "      <th>SYEAR</th>\n",
       "      <th>SMTH</th>\n",
       "      <th>LMO_Detailed_Industry</th>\n",
       "      <th>EMPLOYMENT</th>\n",
       "      <th>NAICS_Codes</th>\n",
       "    </tr>\n",
       "    <tr>\n",
       "      <th>DATE</th>\n",
       "      <th></th>\n",
       "      <th></th>\n",
       "      <th></th>\n",
       "      <th></th>\n",
       "      <th></th>\n",
       "    </tr>\n",
       "  </thead>\n",
       "  <tbody>\n",
       "    <tr>\n",
       "      <th>1997-01</th>\n",
       "      <td>1997</td>\n",
       "      <td>1</td>\n",
       "      <td>Accommodation services</td>\n",
       "      <td>24000.0</td>\n",
       "      <td>721</td>\n",
       "    </tr>\n",
       "    <tr>\n",
       "      <th>1997-01</th>\n",
       "      <td>1997</td>\n",
       "      <td>1</td>\n",
       "      <td>Air transportation</td>\n",
       "      <td>17000.0</td>\n",
       "      <td>481</td>\n",
       "    </tr>\n",
       "    <tr>\n",
       "      <th>1997-01</th>\n",
       "      <td>1997</td>\n",
       "      <td>1</td>\n",
       "      <td>Ambulatory health care services</td>\n",
       "      <td>40000.0</td>\n",
       "      <td>621</td>\n",
       "    </tr>\n",
       "    <tr>\n",
       "      <th>1997-01</th>\n",
       "      <td>1997</td>\n",
       "      <td>1</td>\n",
       "      <td>Amusement, gambling and recreation industries</td>\n",
       "      <td>20000.0</td>\n",
       "      <td>713</td>\n",
       "    </tr>\n",
       "    <tr>\n",
       "      <th>1997-01</th>\n",
       "      <td>1997</td>\n",
       "      <td>1</td>\n",
       "      <td>Architectural, engineering and related services</td>\n",
       "      <td>27000.0</td>\n",
       "      <td>5413</td>\n",
       "    </tr>\n",
       "  </tbody>\n",
       "</table>\n",
       "</div>"
      ],
      "text/plain": [
       "         SYEAR  SMTH                            LMO_Detailed_Industry  \\\n",
       "DATE                                                                    \n",
       "1997-01   1997     1                           Accommodation services   \n",
       "1997-01   1997     1                               Air transportation   \n",
       "1997-01   1997     1                  Ambulatory health care services   \n",
       "1997-01   1997     1    Amusement, gambling and recreation industries   \n",
       "1997-01   1997     1  Architectural, engineering and related services   \n",
       "\n",
       "         EMPLOYMENT NAICS_Codes  \n",
       "DATE                             \n",
       "1997-01     24000.0         721  \n",
       "1997-01     17000.0         481  \n",
       "1997-01     40000.0         621  \n",
       "1997-01     20000.0         713  \n",
       "1997-01     27000.0        5413  "
      ]
     },
     "execution_count": 43,
     "metadata": {},
     "output_type": "execute_result"
    }
   ],
   "source": [
    "Output_df = Output_df.merge(Output_NAICS_97_18, on = ['DATE', 'LMO_Detailed_Industry'], how = 'left')\\\n",
    "            .drop(columns = ['SYEAR_y', 'SMTH_y', 'Employment'], axis = 1)\n",
    "Output_df.rename(columns = {'SYEAR_x': 'SYEAR', 'SMTH_x': 'SMTH', '_EMPLOYMENT_':'EMPLOYMENT'}, inplace = True)\n",
    "Output_df['EMPLOYMENT'] = Output_df.EMPLOYMENT.fillna(0).astype('float64')\n",
    "Output_df.head()"
   ]
  },
  {
   "cell_type": "code",
   "execution_count": 44,
   "metadata": {},
   "outputs": [],
   "source": [
    "Output_df.to_excel(OUTPUT_file)"
   ]
  },
  {
   "cell_type": "markdown",
   "metadata": {},
   "source": [
    "## Exploratory Data Analysis"
   ]
  },
  {
   "cell_type": "markdown",
   "metadata": {},
   "source": [
    "### 1. HOW DID THE EMPLOYMENT EVOLVED OVER TIME ACROSS ALL INDUSTRIES?"
   ]
  },
  {
   "cell_type": "code",
   "execution_count": 45,
   "metadata": {},
   "outputs": [
    {
     "name": "stdout",
     "output_type": "stream",
     "text": [
      "               mean   median\n",
      "SYEAR                       \n",
      "1997   21748.587571  12250.0\n",
      "1998   21540.960452  12625.0\n",
      "1999   22214.336158  13250.0\n",
      "2000   22542.725989  14500.0\n",
      "2001   22510.240113  13125.0\n"
     ]
    },
    {
     "data": {
      "text/plain": [
       "Text(0.5, 1.0, 'Total EMPLOYMNETS by YEARS')"
      ]
     },
     "execution_count": 45,
     "metadata": {},
     "output_type": "execute_result"
    },
    {
     "data": {
      "image/png": "[encoded data removed]",
      "text/plain": [
       "<Figure size 432x288 with 2 Axes>"
      ]
     },
     "metadata": {
      "needs_background": "light"
     },
     "output_type": "display_data"
    }
   ],
   "source": [
    "all_employment = Output_df.groupby('SYEAR')[['EMPLOYMENT']].agg(['mean', 'median'])\n",
    "all_employment.columns = all_employment.columns.droplevel(0)\n",
    "print(all_employment.head())\n",
    "\n",
    "# lineplot\n",
    "fig, ax = plt.subplots()\n",
    "\n",
    "# plot total employment mean data\n",
    "ax.plot(all_employment['mean'], color = 'b')\n",
    "ax.set_xlabel('YEARS')\n",
    "ax.set_ylabel('MEAN of EMPLOYMENTS', color = 'b')\n",
    "ax.tick_params('y', color = 'b')\n",
    "\n",
    "# plot total employment median data\n",
    "ax2 = ax.twinx()\n",
    "ax2.plot(all_employment['median'], color = 'r')\n",
    "ax2.set_ylabel('MEDIAN of EMPLOYMENTS', color = 'r')\n",
    "ax2.tick_params('y', color = 'r')\n",
    "plt.title('Total EMPLOYMNETS by YEARS')"
   ]
  },
  {
   "cell_type": "markdown",
   "metadata": {},
   "source": [
    "## What is the eolution of the employment's frequency over the months of each year? "
   ]
  },
  {
   "cell_type": "code",
   "execution_count": 46,
   "metadata": {},
   "outputs": [
    {
     "data": {
      "text/html": [
       "<div>\n",
       "<style scoped>\n",
       "    .dataframe tbody tr th:only-of-type {\n",
       "        vertical-align: middle;\n",
       "    }\n",
       "\n",
       "    .dataframe tbody tr th {\n",
       "        vertical-align: top;\n",
       "    }\n",
       "\n",
       "    .dataframe thead th {\n",
       "        text-align: right;\n",
       "    }\n",
       "</style>\n",
       "<table border=\"1\" class=\"dataframe\">\n",
       "  <thead>\n",
       "    <tr style=\"text-align: right;\">\n",
       "      <th>SYEAR</th>\n",
       "      <th>1997</th>\n",
       "      <th>1998</th>\n",
       "      <th>1999</th>\n",
       "      <th>2000</th>\n",
       "      <th>2001</th>\n",
       "      <th>2002</th>\n",
       "      <th>2003</th>\n",
       "      <th>2004</th>\n",
       "      <th>2005</th>\n",
       "      <th>2006</th>\n",
       "      <th>...</th>\n",
       "      <th>2009</th>\n",
       "      <th>2010</th>\n",
       "      <th>2011</th>\n",
       "      <th>2012</th>\n",
       "      <th>2013</th>\n",
       "      <th>2014</th>\n",
       "      <th>2015</th>\n",
       "      <th>2016</th>\n",
       "      <th>2017</th>\n",
       "      <th>2018</th>\n",
       "    </tr>\n",
       "    <tr>\n",
       "      <th>SMTH</th>\n",
       "      <th></th>\n",
       "      <th></th>\n",
       "      <th></th>\n",
       "      <th></th>\n",
       "      <th></th>\n",
       "      <th></th>\n",
       "      <th></th>\n",
       "      <th></th>\n",
       "      <th></th>\n",
       "      <th></th>\n",
       "      <th></th>\n",
       "      <th></th>\n",
       "      <th></th>\n",
       "      <th></th>\n",
       "      <th></th>\n",
       "      <th></th>\n",
       "      <th></th>\n",
       "      <th></th>\n",
       "      <th></th>\n",
       "      <th></th>\n",
       "      <th></th>\n",
       "    </tr>\n",
       "  </thead>\n",
       "  <tbody>\n",
       "    <tr>\n",
       "      <th>1</th>\n",
       "      <td>21250.000000</td>\n",
       "      <td>21169.491525</td>\n",
       "      <td>21847.457627</td>\n",
       "      <td>22059.322034</td>\n",
       "      <td>21690.677966</td>\n",
       "      <td>22110.169492</td>\n",
       "      <td>22601.694915</td>\n",
       "      <td>22491.525424</td>\n",
       "      <td>23343.220339</td>\n",
       "      <td>24406.779661</td>\n",
       "      <td>...</td>\n",
       "      <td>25275.423729</td>\n",
       "      <td>25144.067797</td>\n",
       "      <td>25834.745763</td>\n",
       "      <td>26372.881356</td>\n",
       "      <td>26851.694915</td>\n",
       "      <td>27241.525424</td>\n",
       "      <td>27614.406780</td>\n",
       "      <td>28084.745763</td>\n",
       "      <td>28169.491525</td>\n",
       "      <td>29322.033898</td>\n",
       "    </tr>\n",
       "    <tr>\n",
       "      <th>2</th>\n",
       "      <td>21072.033898</td>\n",
       "      <td>20983.050847</td>\n",
       "      <td>21961.864407</td>\n",
       "      <td>22440.677966</td>\n",
       "      <td>22220.338983</td>\n",
       "      <td>22067.796610</td>\n",
       "      <td>23148.305085</td>\n",
       "      <td>22516.949153</td>\n",
       "      <td>23436.440678</td>\n",
       "      <td>24385.593220</td>\n",
       "      <td>...</td>\n",
       "      <td>25194.915254</td>\n",
       "      <td>25245.762712</td>\n",
       "      <td>25868.644068</td>\n",
       "      <td>26597.457627</td>\n",
       "      <td>27029.661017</td>\n",
       "      <td>26995.762712</td>\n",
       "      <td>27305.084746</td>\n",
       "      <td>28334.745763</td>\n",
       "      <td>28889.830508</td>\n",
       "      <td>29288.135593</td>\n",
       "    </tr>\n",
       "    <tr>\n",
       "      <th>3</th>\n",
       "      <td>21338.983051</td>\n",
       "      <td>20961.864407</td>\n",
       "      <td>21796.610169</td>\n",
       "      <td>22199.152542</td>\n",
       "      <td>22631.355932</td>\n",
       "      <td>22364.406780</td>\n",
       "      <td>23347.457627</td>\n",
       "      <td>22894.067797</td>\n",
       "      <td>23152.542373</td>\n",
       "      <td>24461.864407</td>\n",
       "      <td>...</td>\n",
       "      <td>25101.694915</td>\n",
       "      <td>25661.016949</td>\n",
       "      <td>25707.627119</td>\n",
       "      <td>26944.915254</td>\n",
       "      <td>26822.033898</td>\n",
       "      <td>27144.067797</td>\n",
       "      <td>27271.186441</td>\n",
       "      <td>28292.372881</td>\n",
       "      <td>28902.542373</td>\n",
       "      <td>29300.847458</td>\n",
       "    </tr>\n",
       "    <tr>\n",
       "      <th>4</th>\n",
       "      <td>21288.135593</td>\n",
       "      <td>21250.000000</td>\n",
       "      <td>21707.627119</td>\n",
       "      <td>22288.135593</td>\n",
       "      <td>22275.423729</td>\n",
       "      <td>22309.322034</td>\n",
       "      <td>22872.881356</td>\n",
       "      <td>22707.627119</td>\n",
       "      <td>23614.406780</td>\n",
       "      <td>24576.271186</td>\n",
       "      <td>...</td>\n",
       "      <td>25309.322034</td>\n",
       "      <td>25919.491525</td>\n",
       "      <td>25953.389831</td>\n",
       "      <td>27279.661017</td>\n",
       "      <td>27021.186441</td>\n",
       "      <td>26707.627119</td>\n",
       "      <td>27322.033898</td>\n",
       "      <td>28305.084746</td>\n",
       "      <td>29199.152542</td>\n",
       "      <td>29478.813559</td>\n",
       "    </tr>\n",
       "    <tr>\n",
       "      <th>5</th>\n",
       "      <td>21961.864407</td>\n",
       "      <td>21377.118644</td>\n",
       "      <td>22084.745763</td>\n",
       "      <td>22779.661017</td>\n",
       "      <td>22932.203390</td>\n",
       "      <td>22741.525424</td>\n",
       "      <td>23216.101695</td>\n",
       "      <td>23182.203390</td>\n",
       "      <td>23944.915254</td>\n",
       "      <td>24970.338983</td>\n",
       "      <td>...</td>\n",
       "      <td>25826.271186</td>\n",
       "      <td>26021.186441</td>\n",
       "      <td>26470.338983</td>\n",
       "      <td>27203.389831</td>\n",
       "      <td>27334.745763</td>\n",
       "      <td>26885.593220</td>\n",
       "      <td>27610.169492</td>\n",
       "      <td>28398.305085</td>\n",
       "      <td>29750.000000</td>\n",
       "      <td>29728.813559</td>\n",
       "    </tr>\n",
       "  </tbody>\n",
       "</table>\n",
       "<p>5 rows × 22 columns</p>\n",
       "</div>"
      ],
      "text/plain": [
       "SYEAR          1997          1998          1999          2000          2001  \\\n",
       "SMTH                                                                          \n",
       "1      21250.000000  21169.491525  21847.457627  22059.322034  21690.677966   \n",
       "2      21072.033898  20983.050847  21961.864407  22440.677966  22220.338983   \n",
       "3      21338.983051  20961.864407  21796.610169  22199.152542  22631.355932   \n",
       "4      21288.135593  21250.000000  21707.627119  22288.135593  22275.423729   \n",
       "5      21961.864407  21377.118644  22084.745763  22779.661017  22932.203390   \n",
       "\n",
       "SYEAR          2002          2003          2004          2005          2006  \\\n",
       "SMTH                                                                          \n",
       "1      22110.169492  22601.694915  22491.525424  23343.220339  24406.779661   \n",
       "2      22067.796610  23148.305085  22516.949153  23436.440678  24385.593220   \n",
       "3      22364.406780  23347.457627  22894.067797  23152.542373  24461.864407   \n",
       "4      22309.322034  22872.881356  22707.627119  23614.406780  24576.271186   \n",
       "5      22741.525424  23216.101695  23182.203390  23944.915254  24970.338983   \n",
       "\n",
       "SYEAR  ...          2009          2010          2011          2012  \\\n",
       "SMTH   ...                                                           \n",
       "1      ...  25275.423729  25144.067797  25834.745763  26372.881356   \n",
       "2      ...  25194.915254  25245.762712  25868.644068  26597.457627   \n",
       "3      ...  25101.694915  25661.016949  25707.627119  26944.915254   \n",
       "4      ...  25309.322034  25919.491525  25953.389831  27279.661017   \n",
       "5      ...  25826.271186  26021.186441  26470.338983  27203.389831   \n",
       "\n",
       "SYEAR          2013          2014          2015          2016          2017  \\\n",
       "SMTH                                                                          \n",
       "1      26851.694915  27241.525424  27614.406780  28084.745763  28169.491525   \n",
       "2      27029.661017  26995.762712  27305.084746  28334.745763  28889.830508   \n",
       "3      26822.033898  27144.067797  27271.186441  28292.372881  28902.542373   \n",
       "4      27021.186441  26707.627119  27322.033898  28305.084746  29199.152542   \n",
       "5      27334.745763  26885.593220  27610.169492  28398.305085  29750.000000   \n",
       "\n",
       "SYEAR          2018  \n",
       "SMTH                 \n",
       "1      29322.033898  \n",
       "2      29288.135593  \n",
       "3      29300.847458  \n",
       "4      29478.813559  \n",
       "5      29728.813559  \n",
       "\n",
       "[5 rows x 22 columns]"
      ]
     },
     "execution_count": 46,
     "metadata": {},
     "output_type": "execute_result"
    },
    {
     "data": {
      "image/png": "[encoded data removed]",
      "text/plain": [
       "<Figure size 720x360 with 2 Axes>"
      ]
     },
     "metadata": {
      "needs_background": "light"
     },
     "output_type": "display_data"
    }
   ],
   "source": [
    "#employment_industry = Output_df.groupby(['SYEAR', 'LMO_Detailed_Industry'])[['SYEAR', 'LMO_Detailed_Industry', 'EMPLOYMENT']]\n",
    "employment_each_month = pd.crosstab(Output_df.SMTH, Output_df.SYEAR, values = Output_df.EMPLOYMENT, aggfunc = 'mean')\n",
    "\n",
    "# plot heatmap of employment over the month of each year\n",
    "plt.figure(figsize=(10,5))\n",
    "sns.heatmap(employment_each_month ,  cmap = 'plasma',linewidths = 0.5)\n",
    "plt.title('Total Employments by Year and Month')\n",
    "employment_each_month.head(5)"
   ]
  },
  {
   "cell_type": "markdown",
   "metadata": {},
   "source": [
    "## What are the top 5 employing industries ?"
   ]
  },
  {
   "cell_type": "code",
   "execution_count": 47,
   "metadata": {},
   "outputs": [
    {
     "name": "stdout",
     "output_type": "stream",
     "text": [
      "Top 5 Employing Industries\n",
      "\n",
      " LMO_Detailed_Industry\n",
      "Construction                                2.067500e+06\n",
      "Food services and drinking places           1.592420e+06\n",
      "Repair, personal and non-profit services    1.182784e+06\n",
      "Hospitals                                   1.023557e+06\n",
      "Elementary and secondary schools            1.003886e+06\n",
      "dtype: float64 \n",
      "\n",
      "\n"
     ]
    },
    {
     "data": {
      "text/plain": [
       "Text(0.5, 1.0, 'Bar Graph for Top 5 Industries')"
      ]
     },
     "execution_count": 47,
     "metadata": {},
     "output_type": "execute_result"
    },
    {
     "data": {
      "image/png": "[encoded data removed]",
      "text/plain": [
       "<Figure size 432x288 with 1 Axes>"
      ]
     },
     "metadata": {
      "needs_background": "light"
     },
     "output_type": "display_data"
    }
   ],
   "source": [
    "total_employment = pd.crosstab(Output_df.LMO_Detailed_Industry, Output_df.SYEAR, values = Output_df.EMPLOYMENT, aggfunc = sum)\\\n",
    "                     .mean(axis = 1)\\\n",
    "                     .sort_values(ascending = False)\n",
    "\n",
    "top_employing_industries = total_employment.head(5)\n",
    "\n",
    "print('Top 5 Employing Industries\\n\\n', top_employing_industries, '\\n\\n')\n",
    "\n",
    "top_employment_by_year = Output_df[Output_df['LMO_Detailed_Industry'].isin(top_employing_industries.index)]\n",
    "top_employment_by_year = top_employment_by_year.groupby(['LMO_Detailed_Industry', 'SYEAR'])[['EMPLOYMENT']].mean().reset_index(col_level = 1)\n",
    "# box plot of top employment by year\n",
    "sns.boxplot(x= 'EMPLOYMENT',y = 'LMO_Detailed_Industry', data = top_employment_by_year)\n",
    "plt.title('Bar Graph for Top 5 Industries')"
   ]
  },
  {
   "cell_type": "markdown",
   "metadata": {},
   "source": [
    "### Why top employing industries through out of all year?"
   ]
  },
  {
   "cell_type": "code",
   "execution_count": 48,
   "metadata": {},
   "outputs": [
    {
     "data": {
      "text/plain": [
       "Text(0.5, 1.0, 'Eolution of Top 5 Industries')"
      ]
     },
     "execution_count": 48,
     "metadata": {},
     "output_type": "execute_result"
    },
    {
     "data": {
      "image/png": "[encoded data removed]",
      "text/plain": [
       "<Figure size 720x504 with 1 Axes>"
      ]
     },
     "metadata": {
      "needs_background": "light"
     },
     "output_type": "display_data"
    }
   ],
   "source": [
    "plt.figure(figsize=(10,7))\n",
    "sns.lineplot(x = 'SYEAR', y = 'EMPLOYMENT', data = top_employment_by_year, hue = 'LMO_Detailed_Industry')\n",
    "plt.title('Eolution of Top 5 Industries')"
   ]
  },
  {
   "cell_type": "code",
   "execution_count": 49,
   "metadata": {},
   "outputs": [
    {
     "data": {
      "text/plain": [
       "Text(0.5, 1.0, 'Comparison for Top 5 Industries and Total Industreies')"
      ]
     },
     "execution_count": 49,
     "metadata": {},
     "output_type": "execute_result"
    },
    {
     "data": {
      "image/png": "[encoded data removed]",
      "text/plain": [
       "<Figure size 1080x504 with 1 Axes>"
      ]
     },
     "metadata": {
      "needs_background": "light"
     },
     "output_type": "display_data"
    }
   ],
   "source": [
    "top_employment = top_employment_by_year.groupby(['SYEAR', 'LMO_Detailed_Industry'])[['EMPLOYMENT']].sum().reset_index(col_level = 1)\n",
    "total_employment = Output_df.groupby('SYEAR')[['EMPLOYMENT']].sum()\n",
    "top_employment = top_employment.merge(total_employment, how = 'left', on = 'SYEAR', suffixes= ('_top5', '_total'))\n",
    "top_employment['EMPLOYMENT_norm'] = top_employment.EMPLOYMENT_top5 / top_employment.EMPLOYMENT_total\n",
    "\n",
    "plt.figure(figsize=(15,7))\n",
    "sns.barplot(x = 'SYEAR', y = 'EMPLOYMENT_norm', data = top_employment, hue = 'LMO_Detailed_Industry')\n",
    "plt.title('Comparison for Top 5 Industries and Total Industreies')"
   ]
  },
  {
   "cell_type": "markdown",
   "metadata": {},
   "source": [
    "### What is the eolution of the construction over the months of each year?"
   ]
  },
  {
   "cell_type": "code",
   "execution_count": 50,
   "metadata": {},
   "outputs": [
    {
     "data": {
      "text/plain": [
       "Text(0.5, 1.0, 'Eolution of Top 5 Industries')"
      ]
     },
     "execution_count": 50,
     "metadata": {},
     "output_type": "execute_result"
    },
    {
     "data": {
      "image/png": "[encoded data removed]",
      "text/plain": [
       "<Figure size 720x360 with 2 Axes>"
      ]
     },
     "metadata": {
      "needs_background": "light"
     },
     "output_type": "display_data"
    }
   ],
   "source": [
    "construction = Output_df[Output_df['LMO_Detailed_Industry'] == 'Construction']\n",
    "construction_A = pd.crosstab(construction.SMTH, construction.SYEAR, values = construction.EMPLOYMENT, aggfunc = 'sum')\n",
    "\n",
    "plt.figure(figsize=(10,5))\n",
    "sns.heatmap(construction_A,  cmap = 'plasma',linewidths = 0.5)\n",
    "plt.title('Eolution of Top 5 Industries')"
   ]
  }
 ],
 "metadata": {
  "kernelspec": {
   "display_name": "Python 3",
   "language": "python",
   "name": "python3"
  },
  "language_info": {
   "codemirror_mode": {
    "name": "ipython",
    "version": 3
   },
   "file_extension": ".py",
   "mimetype": "text/x-python",
   "name": "python",
   "nbconvert_exporter": "python",
   "pygments_lexer": "ipython3",
   "version": "3.8.5"
  }
 },
 "nbformat": 4,
 "nbformat_minor": 5
}
