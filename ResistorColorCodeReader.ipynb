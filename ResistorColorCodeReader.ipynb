{
 "cells": [
  {
   "cell_type": "code",
   "execution_count": 67,
   "id": "e3c72704",
   "metadata": {},
   "outputs": [],
   "source": [
    "#Resistor Colors\n",
    "resistor_colors = ['Black', 'Brown', 'Red', 'Orange', 'Yellow', 'Green', 'Blue', 'Violet', 'Gray', 'White']\n",
    "com_tolerance = ['Gold', 'Silver']"
   ]
  },
  {
   "cell_type": "code",
   "execution_count": 68,
   "id": "9af49a81",
   "metadata": {},
   "outputs": [],
   "source": [
    "#Printing value of resistor color\n",
    "def printInputValue(order):\n",
    "    print('Please Inter' + order + 'Resistor Color From List Below')\n",
    "    print('Choose correctly:')\n",
    "    for i in range(len(resistor_colors)):\n",
    "        print(resistor_colors[i] + ':\\t\\t ' + str(i))"
   ]
  },
  {
   "cell_type": "code",
   "execution_count": 69,
   "id": "70df8227",
   "metadata": {},
   "outputs": [],
   "source": [
    "#Printing the tolerance value of resistor color\n",
    "def printInputTolerance():\n",
    "    print('Please Inter Tolerence Value \\nChoose correctly:')\n",
    "    print(com_tolerance[0] + '(5%):\\t\\t 1')\n",
    "    print(com_tolerance[1] + '(10%):\\t\\t 2')"
   ]
  },
  {
   "cell_type": "code",
   "execution_count": 70,
   "id": "5693375d",
   "metadata": {},
   "outputs": [],
   "source": [
    "#Printing the Input color of resistor\n",
    "def printColor(code):\n",
    "    for i in range(len(resistor_colors)):\n",
    "        if(i == code):\n",
    "            print('Enter color is ' + resistor_colors[i] +'\\n')"
   ]
  },
  {
   "cell_type": "code",
   "execution_count": 71,
   "id": "c8c33537",
   "metadata": {},
   "outputs": [],
   "source": [
    "#Printing the Input tolerance color of resistor\n",
    "def printTolreance(code):\n",
    "    if(code == 1):\n",
    "        print('Enter color is ' +com_tolerance[0] +'\\n')  \n",
    "    elif(code == 2):\n",
    "        print('Enter color is ' +com_tolerance[1] +'\\n')"
   ]
  },
  {
   "cell_type": "code",
   "execution_count": 77,
   "id": "78ee122f",
   "metadata": {},
   "outputs": [
    {
     "name": "stdout",
     "output_type": "stream",
     "text": [
      "Please InterFirstResistor Color From List Below\n",
      "Choose correctly:\n",
      "Black:\t\t 0\n",
      "Brown:\t\t 1\n",
      "Red:\t\t 2\n",
      "Orange:\t\t 3\n",
      "Yellow:\t\t 4\n",
      "Green:\t\t 5\n",
      "Blue:\t\t 6\n",
      "Violet:\t\t 7\n",
      "Gray:\t\t 8\n",
      "White:\t\t 9\n",
      "3\n",
      "Enter color is Orange\n",
      "\n",
      "Please InterSecondResistor Color From List Below\n",
      "Choose correctly:\n",
      "Black:\t\t 0\n",
      "Brown:\t\t 1\n",
      "Red:\t\t 2\n",
      "Orange:\t\t 3\n",
      "Yellow:\t\t 4\n",
      "Green:\t\t 5\n",
      "Blue:\t\t 6\n",
      "Violet:\t\t 7\n",
      "Gray:\t\t 8\n",
      "White:\t\t 9\n",
      "5\n",
      "Enter color is Green\n",
      "\n",
      "Please InterThirdResistor Color From List Below\n",
      "Choose correctly:\n",
      "Black:\t\t 0\n",
      "Brown:\t\t 1\n",
      "Red:\t\t 2\n",
      "Orange:\t\t 3\n",
      "Yellow:\t\t 4\n",
      "Green:\t\t 5\n",
      "Blue:\t\t 6\n",
      "Violet:\t\t 7\n",
      "Gray:\t\t 8\n",
      "White:\t\t 9\n",
      "6\n",
      "Enter color is Blue\n",
      "\n",
      "Please Inter Tolerence Value \n",
      "Choose correctly:\n",
      "Gold(5%):\t\t 1\n",
      "Silver(10%):\t\t 2\n",
      "1\n",
      "Enter color is Gold\n",
      "\n",
      "The resister value is 53000000 Ohm.\n",
      "Tolerance value: 50350000.0 ohm - 55650000.0 ohm\n"
     ]
    }
   ],
   "source": [
    "    result = 0\n",
    "    \n",
    "    #Reading first color\n",
    "    printInputValue('First')\n",
    "    value = int(input())\n",
    "    printColor(value)\n",
    "    result += value\n",
    "    \n",
    "    #Reading second color\n",
    "    printInputValue('Second')\n",
    "    value = int(input())\n",
    "    printColor(value)\n",
    "    result += value*10 \n",
    "    \n",
    "    #Reading thrid color\n",
    "    printInputValue('Third')\n",
    "    value = int(input())\n",
    "    printColor(value)\n",
    "    result *= 10**value\n",
    "    \n",
    "    #Reading the tolerance color\n",
    "    printInputTolerance()\n",
    "    value = int(input())\n",
    "    printTolreance(value)\n",
    "    \n",
    "    #Printing Result\n",
    "    print('The resister value is ' + str(result) + ' Ohm.')\n",
    "    if(value == 1):\n",
    "        print(\"Tolerance value: \"+ str(result - 0.05*result) + ' ohm - ' + str(result + 0.05*result) + ' ohm')\n",
    "    elif(value == 2):\n",
    "        print(\"Tolerance value: \"+ str(result - 0.1*result) + ' ohm - ' + str(result + 0.1*result) + ' ohm')"
   ]
  }
 ],
 "metadata": {
  "kernelspec": {
   "display_name": "Python 3",
   "language": "python",
   "name": "python3"
  },
  "language_info": {
   "codemirror_mode": {
    "name": "ipython",
    "version": 3
   },
   "file_extension": ".py",
   "mimetype": "text/x-python",
   "name": "python",
   "nbconvert_exporter": "python",
   "pygments_lexer": "ipython3",
   "version": "3.6.9"
  }
 },
 "nbformat": 4,
 "nbformat_minor": 5
}
