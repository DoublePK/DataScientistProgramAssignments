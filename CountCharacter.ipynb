{
 "cells": [
  {
   "cell_type": "markdown",
   "id": "854cc533",
   "metadata": {},
   "source": [
    "#  Count character occurrences in a given word, phrase or sentence."
   ]
  },
  {
   "cell_type": "markdown",
   "id": "0ae7d6cd",
   "metadata": {},
   "source": [
    "Count Character occurance project is application that can count total characters of input word, sentence,and text file. It can also count total number of individual characters and can visualize in matplot graph.\n",
    "This project include Character Analysis Class, Count Visualization Function and result production function."
   ]
  },
  {
   "cell_type": "markdown",
   "id": "01fb38ab",
   "metadata": {},
   "source": [
    "#### Character Analysis Class\n",
    "This class create object that count the numbers of individual character from 'a' to 'z', from '0' to '9'.\n",
    "This class doesn't consider special characters, signs, etc.\n",
    "This calss also count the total number of character."
   ]
  },
  {
   "cell_type": "code",
   "execution_count": 1,
   "id": "74ab67fd",
   "metadata": {},
   "outputs": [],
   "source": [
    "# Create a class that can count the conter of input texts\n",
    "class CharAnalysis:\n",
    "    #create initialize function\n",
    "    def __init__(self, text):\n",
    "        #The input text will be strped white space in both side\n",
    "        self.text = text.strip().lower()\n",
    "        #uncount character list that do not count from input\n",
    "        self.uncountChar = \"!@#$%^&*(){}[]<>.,?/:;\\\"\\'\\r\\n-_=+ \"\n",
    "        #call character list function to get count of each individual characters (a-z,0-9)\n",
    "        self.charList = self.charCount()\n",
    "        #call total character function to get total count of input text (0-9,a-z)\n",
    "        self.charCount = self.charTotal()\n",
    "       \n",
    "        \n",
    "    #character List function\n",
    "    def charCount(self):\n",
    "        raw_characters = {}\n",
    "        for c in self.text:\n",
    "            #reject uncounted character\n",
    "            if(c in self.uncountChar):\n",
    "                continue\n",
    "            elif(c in raw_characters.keys()):\n",
    "                raw_characters[c] += 1\n",
    "            else:\n",
    "                raw_characters[c] = 1\n",
    "        #Sorted the character value in descending order\n",
    "        characters = dict((key, value) for key,value in sorted(raw_characters.items(), key = lambda x:x[1],reverse=True))\n",
    "        return characters\n",
    "    \n",
    "    #total character function\n",
    "    def charTotal(self):\n",
    "        return sum(self.charList.values())    "
   ]
  },
  {
   "cell_type": "markdown",
   "id": "e1d05a3b",
   "metadata": {},
   "source": [
    "### Visualization Funtion"
   ]
  },
  {
   "cell_type": "code",
   "execution_count": 2,
   "id": "359213fd",
   "metadata": {},
   "outputs": [],
   "source": [
    "import matplotlib.pyplot as plt\n",
    "#create a visualize function to produce count of each character\n",
    "def charGraph(charList):\n",
    "    plt.scatter(charList.keys(),charList.values(),c='green', marker = '*')\n",
    "    plt.title('Character Count Graph')\n",
    "    plt.xlabel('Characters')\n",
    "    plt.ylabel('Character Count')\n",
    "    plt.show()"
   ]
  },
  {
   "cell_type": "markdown",
   "id": "96b2b9db",
   "metadata": {},
   "source": [
    "### Result Production Function"
   ]
  },
  {
   "cell_type": "code",
   "execution_count": 3,
   "id": "51f1c219",
   "metadata": {},
   "outputs": [],
   "source": [
    "#create a function to produce the result\n",
    "def result(inputText):\n",
    "    result = CharAnalysis(inputText)\n",
    "    print(\"The Character List is : \" + str(result.charList))\n",
    "    print(\"The Total Character is : \" + str(result.charCount))\n",
    "    charGraph(result.charList)"
   ]
  },
  {
   "cell_type": "markdown",
   "id": "4b2aa443",
   "metadata": {},
   "source": [
    "### Request Input \n",
    "        Can choose two input types:\n",
    "                    1. From text file\n",
    "                    2. From Keyboard input"
   ]
  },
  {
   "cell_type": "code",
   "execution_count": 4,
   "id": "e9099447",
   "metadata": {},
   "outputs": [
    {
     "name": "stdout",
     "output_type": "stream",
     "text": [
      "Please Choose for Text,\n",
      " \t 1.From file: \t\t Type 'A' or 'a' \n",
      " \t 2.From Keyborad:\t Type 'B' or 'b'\n",
      "\n",
      "a\n"
     ]
    }
   ],
   "source": [
    "#resquest the input types: file input or keyboard input\n",
    "inputType = input(\"Please Choose for Text,\\n \\t 1.From file: \\t\\t Type \\'A\\' or \\'a\\' \\n \\t 2.From Keyborad:\\t Type \\'B\\' or \\'b\\'\\n\\n\")"
   ]
  },
  {
   "cell_type": "markdown",
   "id": "7fda7c5a",
   "metadata": {},
   "source": [
    "### Choosing Input Type\n",
    "    If user types 'A' or 'a', he must insert text form text file\n",
    "    If user types  'B' or 'B', he must insert text form keyboard.\n",
    "    Other input type will be invalid"
   ]
  },
  {
   "cell_type": "code",
   "execution_count": 6,
   "id": "74bb5f80",
   "metadata": {},
   "outputs": [
    {
     "name": "stdout",
     "output_type": "stream",
     "text": [
      "Please Enter File Path\n",
      "\n",
      "/home/dpk/Documents/English/Be.txt\n",
      "The Character List is : {'e': 787, 'a': 659, 't': 517, 'h': 447, 'o': 430, 'i': 396, 'n': 324, 'r': 292, 's': 278, 'l': 214, 'v': 175, 'd': 165, 'u': 164, 'm': 162, 'y': 139, 'g': 137, 'c': 130, 'b': 124, 'w': 106, 'f': 97, 'p': 81, 'k': 49, 'j': 9, 'z': 6, 'q': 5, 'x': 4, '3': 2, '8': 2, '7': 1, '1': 1}\n",
      "The Total Character is : 5903\n"
     ]
    },
    {
     "data": {
      "image/png": "[encoded data removed]",
      "text/plain": [
       "<Figure size 432x288 with 1 Axes>"
      ]
     },
     "metadata": {
      "needs_background": "light"
     },
     "output_type": "display_data"
    }
   ],
   "source": [
    "if(inputType == 'A' or inputType == 'a'):\n",
    "    #file input\n",
    "    filepath = input(\"Please Enter File Path\\n\\n\")\n",
    "    file = open(filepath, 'r')\n",
    "    inputText = file.read()\n",
    "    #call result function\n",
    "    result(inputText)\n",
    "elif(input == 'B' or inputType == 'b'):\n",
    "    #keyboard input\n",
    "    inputText = input(\"Please Enter Text\\n\\n\")\n",
    "     #call result function\n",
    "    result(inputText)\n",
    "else:\n",
    "    #if the input type is invalid\n",
    "    print('Your Input is Invalid!')"
   ]
  },
  {
   "cell_type": "code",
   "execution_count": null,
   "id": "0b4e9084",
   "metadata": {},
   "outputs": [],
   "source": []
  }
 ],
 "metadata": {
  "kernelspec": {
   "display_name": "Python 3",
   "language": "python",
   "name": "python3"
  },
  "language_info": {
   "codemirror_mode": {
    "name": "ipython",
    "version": 3
   },
   "file_extension": ".py",
   "mimetype": "text/x-python",
   "name": "python",
   "nbconvert_exporter": "python",
   "pygments_lexer": "ipython3",
   "version": "3.6.9"
  }
 },
 "nbformat": 4,
 "nbformat_minor": 5
}
