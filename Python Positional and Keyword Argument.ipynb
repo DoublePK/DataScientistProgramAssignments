{
 "cells": [
  {
   "cell_type": "markdown",
   "id": "973bf2ff",
   "metadata": {},
   "source": [
    " # Python Concepts for Data Science\n",
    " ## Python Positional and Keyword Argument"
   ]
  },
  {
   "cell_type": "markdown",
   "id": "4a3470eb",
   "metadata": {},
   "source": [
    "<div style='font-size:16px;\n",
    "            width:90%;\n",
    "            line-height: 1.4;'>\n",
    "    <p>When we are talking about functions, there are two parts - </p>\n",
    "    <ul>\n",
    "        <li><b>Function definition</b> - The definition of a function contains the code that determines the function’s\n",
    "behavior.</li>\n",
    "        <li><b>Function invocation</b> - A function is used within a program via a function invocation</li>\n",
    "    </ul>\n",
    "    <p>Every function has exactly one definition but may have many invocations.<br>    \n",
    "       An ordinary function definition consists of four parts:</p>\n",
    "    \n",
    "<ul>\n",
    "    <li><b>def</b> The def keyword introduces a function definition.</li>\n",
    "    <li><b>Name</b> The name is an identifier. As with variable names, the name chosen for a\n",
    "function should accurately portray its intended purpose or describe its functionality.</li>\n",
    "    <li><b>Parameters</b> every function definition specifies the parameters that it accepts from callers. The\n",
    "parameters appear in a parenthesized comma-separated list.</li>\n",
    "    <li><b>Body</b> every function definition has a block of indented statements that constitute the function’s\n",
    "body. The body contains the code to execute when callers invoke the function. The code within the\n",
    "body is responsible for producing the result, if any, to return to the caller.</li>\n",
    "    \n",
    "</ul>\n",
    "    </div>\n"
   ]
  },
  {
   "cell_type": "markdown",
   "id": "977b1c86",
   "metadata": {},
   "source": [
    "<img src=\"funcDef.png\" alt='func decleration'/>"
   ]
  },
  {
   "cell_type": "markdown",
   "id": "2a7b2ef5",
   "metadata": {},
   "source": [
    "### Parameters or Arguments?\n",
    "\n",
    "<div style='font-size:16px;\n",
    "            width:90%;\n",
    "            line-height: 1.4;'>\n",
    "    <p>\n",
    "The terms parameter and argument can be used for the same thing: information that are passed into a function. <br>\n",
    "From a function's perspective:\n",
    "    </p>\n",
    "    <ul>\n",
    "        <li>A parameter is the variable listed inside the parentheses in the function definition.</li>\n",
    "        <li>An argument is the value that are sent to the function when it is called.</li>\n",
    "    </ul>\n",
    "</div>\n",
    "\n",
    "\n"
   ]
  },
  {
   "cell_type": "markdown",
   "id": "529533c4",
   "metadata": {},
   "source": [
    "<div style='font-size:16px;\n",
    "            width:90%;\n",
    "            line-height: 1.4;'>\n",
    "    <p>\n",
    "Based on the data passing through into the function, we can classify five types of arguments or parameters:\n",
    "    </p>\n",
    "    <ol>\n",
    "        <li>Default argument</li>\n",
    "        <li>Positional argument</li>\n",
    "        <li>Keyword argument</li>\n",
    "        <li>Arbitary Positional argument</li>\n",
    "        <li>Arbitary Keyword argument</li>\n",
    "    </ol>\n",
    "        <p>In this blog I will mainly talk about positional argument and keyword arugment.</p>\n",
    "</div>\n",
    "\n"
   ]
  },
  {
   "cell_type": "markdown",
   "id": "5eb47ad9",
   "metadata": {},
   "source": [
    "### Positional Argument\n",
    "\n",
    "<p style='font-size:16px;\n",
    "            width:90%;\n",
    "            line-height: 1.4;'> \n",
    "    During a function call, <b>positional arguments</b> pass through into the function in the order of proper position or order. The first positional argument always needs to be listed first when the function is called. The second positional argument needs to be listed second and the third positional argument listed third, etc.\n",
    "    <br>\n",
    "    <br>\n",
    "Let create a function, this function is declared with three parameters (a, b, c). The function will print out with each values of 'a', 'b', 'c' in sequence  , and then returns the sun of all inputs</p>"
   ]
  },
  {
   "cell_type": "code",
   "execution_count": 8,
   "id": "dfcf2b79",
   "metadata": {},
   "outputs": [
    {
     "name": "stdout",
     "output_type": "stream",
     "text": [
      "Value of 'a' is 3\n",
      "Value of 'b' is 5\n",
      "Value of 'c' is 30\n",
      "38\n"
     ]
    }
   ],
   "source": [
    "def add(a,b,c):\n",
    "    print('Value of \\'a\\' is ' + str(a))\n",
    "    print('Value of \\'b\\' is ' + str(b))\n",
    "    print('Value of \\'c\\' is ' + str(c))\n",
    "    return (a+b+c)\n",
    "\n",
    "print(add(3, 5, 30))"
   ]
  },
  {
   "cell_type": "markdown",
   "id": "1f9a73ad",
   "metadata": {},
   "source": [
    "<p style='font-size:16px;\n",
    "            width:90%;\n",
    "            line-height: 1.4;'>\n",
    "   When we call this function, the values passed through arguments are passed to parameters by their position. 3 is assigned to 'a', 5 is assigned to 'b' and 30 is assigned to 'c'. <br>\n",
    "    A function can be decleared with default value by assigning to the parameters. This is called <b>default argument</b>. Lets modify by adding default argument to function, 5 assig to 'b' and 10 is assigned to 'c'.\n",
    "</p>"
   ]
  },
  {
   "cell_type": "code",
   "execution_count": 11,
   "id": "e4ac5c46",
   "metadata": {},
   "outputs": [],
   "source": [
    "def add(a,b=5,c=10):\n",
    "    print('Value of \\'a\\' is ' + str(a))\n",
    "    print('Value of \\'b\\' is ' + str(b))\n",
    "    print('Value of \\'c\\' is ' + str(c))\n",
    "    return (a+b+c)"
   ]
  },
  {
   "cell_type": "markdown",
   "id": "5904846a",
   "metadata": {},
   "source": [
    "<p style='font-size:16px;\n",
    "            width:90%;\n",
    "            line-height: 1.4;'>\n",
    "   When we call the function with custom values, the arguments will overwrite the default parameter and return the output. During call the function with arguments (3, 20, 13), 3 will assigns to 'a', 20 and 13 will overwrite the default parameter 'b' and 'c'.\n",
    "</p>"
   ]
  },
  {
   "cell_type": "code",
   "execution_count": 12,
   "id": "f6cbdc74",
   "metadata": {},
   "outputs": [
    {
     "name": "stdout",
     "output_type": "stream",
     "text": [
      "Value of 'a' is 3\n",
      "Value of 'b' is 20\n",
      "Value of 'c' is 13\n",
      "36\n"
     ]
    }
   ],
   "source": [
    "print(add(3, 20, 13))"
   ]
  },
  {
   "cell_type": "markdown",
   "id": "e07cacdd",
   "metadata": {},
   "source": [
    "<p style='font-size:16px;\n",
    "            width:90%;\n",
    "            line-height: 1.4;'>\n",
    "   Default arguments become optional during the function calls. When we give only one argument for 'a', the function will take default values 5 and 10 for 'b' and 'c'.\n",
    "</p>"
   ]
  },
  {
   "cell_type": "code",
   "execution_count": 13,
   "id": "0918f3b7",
   "metadata": {},
   "outputs": [
    {
     "name": "stdout",
     "output_type": "stream",
     "text": [
      "18\n",
      "17\n"
     ]
    }
   ],
   "source": [
    "print(add(3))"
   ]
  },
  {
   "cell_type": "markdown",
   "id": "133f82ae",
   "metadata": {},
   "source": [
    "<p style='font-size:16px;\n",
    "            width:90%;\n",
    "            line-height: 1.4;'>\n",
    "    And we can give one of the optional argument \n",
    "</p>"
   ]
  },
  {
   "cell_type": "code",
   "execution_count": 14,
   "id": "4c34cbfb",
   "metadata": {},
   "outputs": [
    {
     "name": "stdout",
     "output_type": "stream",
     "text": [
      "Value of 'a' is 3\n",
      "Value of 'b' is 4\n",
      "Value of 'c' is 10\n",
      "17\n"
     ]
    }
   ],
   "source": [
    "print(add(3,4))"
   ]
  },
  {
   "cell_type": "markdown",
   "id": "294e04a6",
   "metadata": {},
   "source": [
    "<p style='font-size:16px;\n",
    "            width:90%;\n",
    "            line-height: 1.4;'>\n",
    "   When careating a function we can have any number of default arguments, and the default arguments shoud follow the positional arguments. If we give default argument infront of positional, the function gives a error.\n",
    "</p>"
   ]
  },
  {
   "cell_type": "code",
   "execution_count": 33,
   "id": "c05cc9cc",
   "metadata": {},
   "outputs": [
    {
     "ename": "SyntaxError",
     "evalue": "non-default argument follows default argument (<ipython-input-33-dc1040eb6292>, line 1)",
     "output_type": "error",
     "traceback": [
      "\u001b[0;36m  File \u001b[0;32m\"<ipython-input-33-dc1040eb6292>\"\u001b[0;36m, line \u001b[0;32m1\u001b[0m\n\u001b[0;31m    def add(a=5 ,b=5,c):\u001b[0m\n\u001b[0m           ^\u001b[0m\n\u001b[0;31mSyntaxError\u001b[0m\u001b[0;31m:\u001b[0m non-default argument follows default argument\n"
     ]
    }
   ],
   "source": [
    "def add(a=5 ,b=5,c):\n",
    "    print('Value of \\'a\\' is ' + str(a))\n",
    "    print('Value of \\'b\\' is ' + str(b))\n",
    "    print('Value of \\'c\\' is ' + str(c))\n",
    "    return (a+b+c)"
   ]
  },
  {
   "cell_type": "markdown",
   "id": "c964e6d7",
   "metadata": {},
   "source": [
    "### Keyword arguments\n",
    "<p style='font-size:16px;\n",
    "            width:90%;\n",
    "            line-height: 1.4;'>\n",
    "During a function call, values passed through arguments need not be in the order of parameters in the function definition. This can be achieved by <b>keyword arguments</b>. But all the <b>keyword arguments</b> should match the parameters in the function definition. Keyword argument can be denoted as <b>kwarg</b>.<br><br>\n",
    "Example: \n",
    "    </p>"
   ]
  },
  {
   "cell_type": "code",
   "execution_count": 29,
   "id": "e5a36f44",
   "metadata": {},
   "outputs": [],
   "source": [
    "def add(a,b = 6,c = 10):\n",
    "    print('Value of \\'a\\' is ' + str(a))\n",
    "    print('Value of \\'b\\' is ' + str(b))\n",
    "    print('Value of \\'c\\' is ' + str(c))\n",
    "    return (a+b+c)"
   ]
  },
  {
   "cell_type": "markdown",
   "id": "4e5d6d0e",
   "metadata": {},
   "source": [
    "<p style='font-size:16px;\n",
    "            width:90%;\n",
    "            line-height: 1.4;'> \n",
    "   This function is decleared with default parameters for 'b' and 'c'. During a function call, it will print out with each values of 'a', 'b', 'c' in sequence, and then returns the sun of all inputs. We can call this function with positional arguments in sequence of order.<br><br>\n",
    "    This function can be achieved as <b>keyword arguments</b>. Calling the functionby giving keyword arguments, all parameters are given as keyword arguments, so no need to maintain the same order. The agruments' values for 'b' and 'c' will  be overwrite.\n",
    "</p>"
   ]
  },
  {
   "cell_type": "code",
   "execution_count": 30,
   "id": "f341a0f9",
   "metadata": {},
   "outputs": [
    {
     "name": "stdout",
     "output_type": "stream",
     "text": [
      "Value of 'a' is 20\n",
      "Value of 'b' is 10\n",
      "Value of 'c' is 15\n",
      "45\n"
     ]
    }
   ],
   "source": [
    "print (add(b=10,c=15,a=20))"
   ]
  },
  {
   "cell_type": "markdown",
   "id": "997cfa37",
   "metadata": {},
   "source": [
    "<p style='font-size:16px;\n",
    "            width:90%;\n",
    "            line-height: 1.4;'> \n",
    "  During a function call, only giving mandatory argument as a keyword argument. Optional default arguments are skipped.\n",
    "</p>"
   ]
  },
  {
   "cell_type": "code",
   "execution_count": 31,
   "id": "4dd10cf6",
   "metadata": {},
   "outputs": [
    {
     "name": "stdout",
     "output_type": "stream",
     "text": [
      "Value of 'a' is 10\n",
      "Value of 'b' is 6\n",
      "Value of 'c' is 10\n",
      "26\n"
     ]
    }
   ],
   "source": [
    "print (add(a=10))"
   ]
  },
  {
   "cell_type": "markdown",
   "id": "8bbeaf9e",
   "metadata": {},
   "source": [
    "<p style='font-size:16px;\n",
    "            width:90%;\n",
    "            line-height: 1.4;'> \n",
    "  Giving a mix of positional and keyword arguments, keyword arguments should always follow positional arguments\n",
    "</p>"
   ]
  },
  {
   "cell_type": "code",
   "execution_count": 32,
   "id": "81d2d50c",
   "metadata": {},
   "outputs": [
    {
     "name": "stdout",
     "output_type": "stream",
     "text": [
      "Value of 'a' is 10\n",
      "Value of 'b' is 20\n",
      "Value of 'c' is 30\n",
      "60\n"
     ]
    }
   ],
   "source": [
    "print (add(10,c=30,b=20))"
   ]
  },
  {
   "cell_type": "markdown",
   "id": "b538867c",
   "metadata": {},
   "source": [
    "<p style='font-size:16px;\n",
    "            width:90%;\n",
    "            line-height: 1.4;'> \n",
    "  The parameter 'a' is assigned with positional argument value 10 and then 'b' and 'c' is assigned with keyword argument.\n",
    "</p>\n",
    "\n",
    "### Important points to remember for positional argument and keyword argument\n",
    "\n",
    "<div style='font-size:16px;\n",
    "            width:90%;\n",
    "            line-height: 1.4;'>\n",
    "    <ul>\n",
    "        <li>Default arguments should not follow non default arguments.</li>\n",
    "        <li>Keyword arguments should follow positional arguments.</li>\n",
    "        <li>All keyword arguments passed must match one of the arguements accepted by the function and their order is not important.</li>\n",
    "        <li>All arguments should not receive a value more than one.</li>\n",
    "        <li>Default arguments are optional arguments</li>\n",
    "    </ul>\n",
    "</div>"
   ]
  }
 ],
 "metadata": {
  "kernelspec": {
   "display_name": "Python 3",
   "language": "python",
   "name": "python3"
  },
  "language_info": {
   "codemirror_mode": {
    "name": "ipython",
    "version": 3
   },
   "file_extension": ".py",
   "mimetype": "text/x-python",
   "name": "python",
   "nbconvert_exporter": "python",
   "pygments_lexer": "ipython3",
   "version": "3.6.9"
  }
 },
 "nbformat": 4,
 "nbformat_minor": 5
}
