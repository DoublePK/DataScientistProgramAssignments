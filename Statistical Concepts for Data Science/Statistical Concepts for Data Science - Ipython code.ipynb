{
 "cells": [
  {
   "cell_type": "markdown",
   "metadata": {},
   "source": [
    "# Statistical Concepts for Data Science"
   ]
  },
  {
   "cell_type": "markdown",
   "metadata": {},
   "source": [
    "<p style = '\n",
    "   font-size: 16px;\n",
    "   padding-right:80px;\n",
    "   text-align: justify;\n",
    "            '>\n",
    "Data Scientist is one of the most attractive career options that offers immense job satisfaction, insanely high salary, global recognition, and amazing growth opportunities. As per the Harvard Business Review, Data Scientist is defined as the most desirable profession of the 21st century. Machine Learning and Statistics are the two core skills required to become a data scientist.<br>\n",
    "Statistics is like the heart of Data Science that helps to analyze, transform and predict data. In the following article, I am going to introduce ten fundamental statistical concepts you need to be able to grasp when learning data science. These are not particularly advanced techniques but they are a selection of the basic requirements you need to know before moving onto learning more complex methods.\n",
    "</p>\n",
    "\n",
    "### Population and Sample\n",
    "<p style = '\n",
    "   font-size: 16px;\n",
    "   padding-right:80px;\n",
    "   text-align: justify;\n",
    "            '>\n",
    " In statistic, the entire set of raw data that you may have available for a test or experiment is known as the Population.For example, college students in US is a population that includes all of the college students in US. 25-year-old people in Europe is a population that includes all of the people that fits the description.<br>\n",
    "It is not always feasible or possible to do analysis on population because we cannot collect all the data of a population. For that reason statistics allows us to take a sample, perform some computations on that set of data, and using probability and some assumptions we can with a certain degree of certainty understand trends for the entire population or predict future events. For example, 1000 college students in US is a subset of “college students in US” population.</p>"
   ]
  },
  {
   "cell_type": "markdown",
   "metadata": {},
   "source": [
    "<img src=\"population and sample.png\" style= 'padding:0 80px 0 80px;'>"
   ]
  },
  {
   "cell_type": "markdown",
   "metadata": {},
   "source": [
    "<p style = '\n",
    "   font-size: 16px;\n",
    "   padding-right:80px;\n",
    "   text-align: justify;\n",
    "            '>\n",
    "   Let's take example in Python using Pandas Library and Numpy Library<br>\n",
    "   We'll take 6 sides dice and take one sample at a time\n",
    " <p>"
   ]
  },
  {
   "cell_type": "code",
   "execution_count": 11,
   "metadata": {},
   "outputs": [
    {
     "name": "stdout",
     "output_type": "stream",
     "text": [
      "   0\n",
      "0  1\n"
     ]
    }
   ],
   "source": [
    "# import pandas and numpy library\n",
    "import pandas as pd\n",
    "import numpy as np\n",
    "\n",
    "#create dice data \n",
    "dice = pd.DataFrame([1, 2, 3, 4, 5, 6])\n",
    "\n",
    "np.random.seed(42)\n",
    "# take  a sample from dice \n",
    "print(dice.sample(1))"
   ]
  },
  {
   "cell_type": "markdown",
   "metadata": {},
   "source": [
    "### Probability\n",
    "<p style = '\n",
    "   font-size: 16px;\n",
    "   padding-right:80px;\n",
    "   text-align: justify;\n",
    "            '>\n",
    "\tProbability is the measure of the likelihood that an event will occur in a Random Experiment.In statistics, an event is the outcome of an experiment which could be something like the rolling of a dice or the results of an AB test. Probability for a single event is calculated by dividing the number of events by the number of total possible outcomes. In the case of, say, rolling a six on a dice there are 6 possible outcomes. So the chance of rolling a six is 1/6 = 0.167, sometimes this is also expressed as a percentage so 16.7%.<br>    \n",
    "It specifies the likelihood of all possible events. In simple terms, an event refers to the result of an experiment like tossing a coin. Events are of two types dependent and independent.<br>\n",
    "    <b>Independent event</b>: The event is said to be an Independent event when it is not affected by the earlier events. For example, tossing a coin, let us consider a coin is tossed the first outcome is head when the coin is tossed again the outcome may be head or tail. But this is entirely independent of the first trial.<br>\n",
    "    <b>Dependent event</b>: The event is said to be dependent when the occurrence of the event is dependent on the earlier events. For example when a ball is drawn from a bag that contains red and blue balls. If the first ball drawn is red, then the second ball may be red or blue; this depends on the first trial.\n",
    "<p>"
   ]
  },
  {
   "cell_type": "markdown",
   "metadata": {},
   "source": [
    "### Probability Distribution\n",
    "<p style = '\n",
    "   font-size: 16px;\n",
    "   padding-right:80px;\n",
    "   text-align: justify;\n",
    "            '>\n",
    "A probability distribution is a statistical function that describes all the possible values and likelihoods that a random variable can take within a given range. This range will be bounded between the minimum and maximum possible values, but precisely where the possible value is likely to be plotted on the probability distribution depends on a number of factors. These factors include the distribution's mean (average), standard deviation, skewness, and kurtosis. Probability distribution functions are quite useful in predictive analytics or machine learning. We can make predictions about a population based on the probability distribution function of a sample from that population.<br><br>\n",
    "    except value of a fair dice roll = (1/6 * 1) + (1/6 * 2) + (1/6 * 3)+ …. + (1/6 * 6) = 3.5<br><br>\n",
    "    Let's take example of probability distribution of one dice in Python taking 20 time rolls\n",
    "    \n",
    "</p>"
   ]
  },
  {
   "cell_type": "code",
   "execution_count": 15,
   "metadata": {},
   "outputs": [
    {
     "data": {
      "text/plain": [
       "array([[<AxesSubplot:title={'center':'0'}>]], dtype=object)"
      ]
     },
     "execution_count": 15,
     "metadata": {},
     "output_type": "execute_result"
    },
    {
     "data": {
      "image/png": "[encoded data removed]",
      "text/plain": [
       "<Figure size 432x288 with 1 Axes>"
      ]
     },
     "metadata": {
      "needs_background": "light"
     },
     "output_type": "display_data"
    }
   ],
   "source": [
    "dice_20_rolls = dice.sample(20, replace = True)\n",
    "dice_20_rolls.hist(bins = np.linspace(1, 7, 7))"
   ]
  },
  {
   "cell_type": "markdown",
   "metadata": {},
   "source": [
    "### Expected value of random variables\n",
    "<p style = '\n",
    "   font-size: 16px;\n",
    "   padding-right:80px;\n",
    "   text-align: justify;\n",
    "            '>\n",
    "The expected value of a random variable is the weighted average of all possible values of the variable. The weight here means the probability of the random variable taking a specific value.<br>\n",
    "The expected value is calculated differently for discrete and continuous random variables.<br>\n",
    "    • Discrete random variables take finitely many or countably infinitely many values. The number of rainy days in a year is a discrete random variable.<br>\n",
    "    • Continuous random variables take uncountably infinitely many values. For instance, the time it takes from your home to the office is a continuous random variable. Depending on how you measure it (minutes, seconds, nanoseconds, and so on), it takes uncountably infinitely many values.<br>\n",
    "The formula for the expected value of a discrete random variable is:</p>"
   ]
  },
  {
   "cell_type": "markdown",
   "metadata": {},
   "source": [
    "<img src = 'excepted value discrete.png'>"
   ]
  },
  {
   "cell_type": "markdown",
   "metadata": {},
   "source": [
    "<p style = '\n",
    "   font-size: 16px;\n",
    "   padding-right:80px;\n",
    "   text-align: justify;\n",
    "            '>\n",
    "    The expected value of a continuous random variable is calculated with the same logic but using different methods. Since continuous random variables can take uncountably infinitely many values, we cannot talk about a variable taking a specific value. We rather focus on value ranges.<br>\n",
    "In order to calculate the probability of value ranges, probability density functions (PDF) are used. PDF is a function that specifies the probability of a random variable taking value within a particular range.</p>"
   ]
  },
  {
   "cell_type": "markdown",
   "metadata": {},
   "source": [
    "<img src= 'excepted value continuous.png'>"
   ]
  },
  {
   "cell_type": "markdown",
   "metadata": {},
   "source": [
    "<p style = '\n",
    "   font-size: 16px;\n",
    "   padding-right:80px;\n",
    "   text-align: justify;\n",
    "            '>\n",
    "    <b>Probability Mass Function(PMF):</b> A function that gives the probability that a discrete random variable is exactly equal to some value.<br>\n",
    "    <b>Probability Density Function(PDF):</b> A function for continuous data where the value at any given sample can be interpreted as providing a relative likelihood that the value of the random variable would equal that sample.<br>\n",
    "    <b>Cumulative Density Function(CDF): </b> A function that gives the probability that a random variable is less than or equal to a certain value.\n",
    "    <p>"
   ]
  },
  {
   "cell_type": "markdown",
   "metadata": {},
   "source": [
    "###  Law of Large Number\n",
    "<p style = '\n",
    "   font-size: 16px;\n",
    "   padding-right:80px;\n",
    "   text-align: justify;\n",
    "            '>\n",
    "\tThe law of large numbers, in probability and statistics, states that as a sample size grows, its mean gets closer to the average of the whole population. The large numbers theorem states that if the same experiment or study is repeated independently a large number of times, the average of the results of the trials must be close to the expected value. The result becomes closer to the expected value as the number of trials is increased.<br>\n",
    "\tThe law of large numbers is an important concept in statistics because it states that even random events with a large number of trials may return stable long-term results. Note that the theorem deals only with a large number of trials while the average of the results of the experiment repeated a small number of times might be substantially different from the expected value. However, each additional trial increases the precision of the average result.<br>\n",
    "\tThe simplest example of the law of large numbers is rolling the dice. The dice involves six different events with equal probabilities. The expected value of the dice events is:<br>\n",
    "If we roll the dice only three times, the average of the obtained results may be far from the expected value. Let’s say you rolled the dice three times and the outcomes were 6, 6, 3. The average of the results is 5. According to the law of the large numbers, if we roll the dice a large number of times, the average result will be closer to the expected value of 3.5.\n",
    "    <p>"
   ]
  },
  {
   "cell_type": "code",
   "execution_count": 76,
   "metadata": {},
   "outputs": [
    {
     "data": {
      "image/png": "[encoded data removed]",
      "text/plain": [
       "<Figure size 432x288 with 3 Axes>"
      ]
     },
     "metadata": {
      "needs_background": "light"
     },
     "output_type": "display_data"
    }
   ],
   "source": [
    "import matplotlib.pyplot as plt\n",
    "fig, axs = plt.subplots(1,3)\n",
    "fig.subplots_adjust(wspace =5, hspace = 3, left = 1, right = 3)\n",
    "num_of_trials = [20, 100, 10000]\n",
    "for idx, roll in enumerate(num_of_trials):\n",
    "    dice_rolls = dice.sample(roll, replace = True)\n",
    "    dice_rolls.hist(ax = axs[idx], bins = np.linspace(1,6, 7))\n",
    "    axs[idx].set(title= 'number of trials '+str(roll))\n",
    "    "
   ]
  },
  {
   "cell_type": "markdown",
   "metadata": {},
   "source": [
    "### Measure of Central Tendency\n",
    "<p style = '\n",
    "   font-size: 16px;\n",
    "   padding-right:80px;\n",
    "   text-align: justify;\n",
    "            '>\n",
    "Central tendency is the central (or typical) value of a probability distribution. The most common measures of central tendency are mean, median, and mode.<br>\n",
    "    <li> Mean is the average of the values in series.</li>\n",
    "   <li>Median is the value in the middle when values are sorted in ascending or descending order.</li>\n",
    "   <li>Mode is the value that appears most often.</li>\n",
    "\n",
    "Skewness: A measure of symmetry.<br>\n",
    "Kurtosis: A measure of whether the data are heavy-tailed or light-tailed relative to a normal distribution</p>"
   ]
  },
  {
   "cell_type": "code",
   "execution_count": 106,
   "metadata": {},
   "outputs": [
    {
     "name": "stdout",
     "output_type": "stream",
     "text": [
      "Generated 20 sample numbers are  [ 7.  9.  7.  3.  9.  6.  0. 10.  2.  3.  8.  7.  4.  7.  7.  9. 10.  1.\n",
      "  2.  2.]\n",
      "The mean of sample is  5.65\n",
      "Median of sample is  7.0\n"
     ]
    }
   ],
   "source": [
    "#Generate 20 random numbers\n",
    "samples = np.round(np.random.random(20)*10)\n",
    "print('Generated 20 sample numbers are ', samples)\n",
    "\n",
    "# take mean of sample\n",
    "print('The mean of sample is ', np.mean(samples))\n",
    "\n",
    "#median of samples\n",
    "print('Median of sample is ', np.median(samples))"
   ]
  },
  {
   "cell_type": "markdown",
   "metadata": {},
   "source": [
    "### Measure of Dispersion\n",
    "<p style = '\n",
    "   font-size: 16px;\n",
    "   padding-right:80px;\n",
    "   text-align: justify;\n",
    "            '>\n",
    "    The types of absolute measures of dispersion are:<br>\n",
    "    1. Range: It is simply the difference between the maximum value and the minimum value given in a data set. Example: 1, 3,5, 6, 7 => Range = 7 -1= 6<br>\n",
    "    2. Variance: Deduct the mean from each data in the set then squaring each of them and adding each square and finally dividing them by the total no of values in the data set is the variance. Variance (σ2)=∑(X−μ)2/N<br>\n",
    "    3. Standard Deviation: The square root of the variance is known as the standard deviation i.e. S.D. = √σ.<br>\n",
    "    4. Quartiles and Quartile Deviation: The quartiles are values that divide a list of numbers into quarters. The quartile deviation is half of the distance between the third and the first quartile.<br>\n",
    "    5. Mean and Mean Deviation: The average of numbers is known as the mean and the arithmetic mean of the absolute deviations of the observations from a measure of central tendency is known as the mean deviation (also called mean absolute deviation).</p>\n"
   ]
  },
  {
   "cell_type": "code",
   "execution_count": 112,
   "metadata": {},
   "outputs": [
    {
     "name": "stdout",
     "output_type": "stream",
     "text": [
      "The range of samples is 10.0\n",
      "Variance of samples is  9.827499999999999\n",
      "standard Deviation is  3.134884367883447\n",
      "The first Quantile is  2.75\n",
      "The second Quantile iss  7.0\n",
      "The third Quantile is  8.25\n",
      "The IQR is  5.5\n"
     ]
    }
   ],
   "source": [
    "# range of sample\n",
    "print('The range of samples is', np.max(samples) - np.min(samples))\n",
    "# variance of samples\n",
    "print('Variance of samples is ', np.var(samples))\n",
    "\n",
    "# standard deviation\n",
    "print('standard Deviation is ', np.std(samples))\n",
    "\n",
    "# Quartile range \n",
    "print('The first Quantile is ', np.quantile(samples, 0.25))\n",
    "print('The second Quantile iss ', np.quantile(samples, 0.5))\n",
    "print('The third Quantile is ', np.quantile(samples, 0.75))\n",
    "print('The IQR is ', np.quantile(samples, 0.75)-np.quantile(samples, 0.25))"
   ]
  },
  {
   "cell_type": "markdown",
   "metadata": {},
   "source": [
    "### Normal Distribution\n",
    "<p style = '\n",
    "   font-size: 16px;\n",
    "   padding-right:80px;\n",
    "   text-align: justify;\n",
    "            '>\n",
    "    Normal/Gaussian Distribution: The curve of the distribution is bell-shaped and symmetrical and is related to the Central Limit Theorem that the sampling distribution of the sample means approaches a normal distribution as the sample size gets larger. The standard normal distribution has two parameters – mean and standard deviation </p>\n"
   ]
  },
  {
   "cell_type": "code",
   "execution_count": 128,
   "metadata": {},
   "outputs": [
    {
     "name": "stdout",
     "output_type": "stream",
     "text": [
      "[ 6.06791198  7.28756282  4.01450555 10.78446981  8.5592705  11.84208047\n",
      "  7.92744972 10.87653048 12.06786554  5.7193554 ]\n"
     ]
    }
   ],
   "source": [
    "# import library\n",
    "from scipy.stats import norm\n",
    "\n",
    "# generation 10 random number with mean of 100 and standard deviation on 5\n",
    "normal_dist = norm.rvs(10, 5, size = 10)\n",
    "print(normal_dist)"
   ]
  },
  {
   "cell_type": "code",
   "execution_count": 131,
   "metadata": {},
   "outputs": [
    {
     "name": "stdout",
     "output_type": "stream",
     "text": [
      "0.2742531177500736\n"
     ]
    }
   ],
   "source": [
    "# probability that get less than or equal to 7 in normal distribution of mean 10 and std 7\n",
    "print(norm.cdf(7, 10, 5))"
   ]
  },
  {
   "cell_type": "code",
   "execution_count": 133,
   "metadata": {},
   "outputs": [
    {
     "data": {
      "text/plain": [
       "16.407757827723003"
      ]
     },
     "execution_count": 133,
     "metadata": {},
     "output_type": "execute_result"
    }
   ],
   "source": [
    "# print the number that get less than or equal to  90% of probability\n",
    "norm.ppf(0.9, 10, 5)"
   ]
  },
  {
   "cell_type": "markdown",
   "metadata": {},
   "source": [
    "<p style = '\n",
    "   font-size: 16px;\n",
    "   padding-right:80px;\n",
    "   text-align: justify;\n",
    "            '>\n",
    "<li>when a normal distribution  has mean 0 and a standard deviation of 1, it’s a special deviation called standard normal distribution</li>\n",
    "- for the normal distribution, 68% of the area is within 1 standard deviation of mean<br>\n",
    "- 95% of the area falls within 2 standard deviation of the mean<br>\n",
    "- 99.7% of the area falls within three standard deviation of the mean called 68-95-99.7 rule</p>"
   ]
  },
  {
   "cell_type": "code",
   "execution_count": 144,
   "metadata": {},
   "outputs": [
    {
     "data": {
      "text/plain": [
       "(array([0.000e+00, 0.000e+00, 1.000e+00, 1.200e+01, 6.500e+01, 2.500e+02,\n",
       "        6.410e+02, 1.275e+03, 1.786e+03, 2.128e+03, 1.721e+03, 1.168e+03,\n",
       "        6.410e+02, 2.370e+02, 5.500e+01, 1.600e+01, 4.000e+00, 0.000e+00,\n",
       "        0.000e+00]),\n",
       " array([-5.        , -4.47368421, -3.94736842, -3.42105263, -2.89473684,\n",
       "        -2.36842105, -1.84210526, -1.31578947, -0.78947368, -0.26315789,\n",
       "         0.26315789,  0.78947368,  1.31578947,  1.84210526,  2.36842105,\n",
       "         2.89473684,  3.42105263,  3.94736842,  4.47368421,  5.        ]),\n",
       " <BarContainer object of 19 artists>)"
      ]
     },
     "execution_count": 144,
     "metadata": {},
     "output_type": "execute_result"
    },
    {
     "data": {
      "image/png": "[encoded data removed]",
      "text/plain": [
       "<Figure size 432x288 with 1 Axes>"
      ]
     },
     "metadata": {
      "needs_background": "light"
     },
     "output_type": "display_data"
    }
   ],
   "source": [
    "# generate 10000 standard normal distribution num\n",
    "std_norm_dist = norm.rvs(0, 1, 10000)\n",
    "# draw histogram os standard normal distribution\n",
    "plt.hist(std_norm_dist, bins = np.linspace(-5, 5, 20))"
   ]
  },
  {
   "cell_type": "markdown",
   "metadata": {},
   "source": [
    "### Binomial Distribution\n",
    "<p style = '\n",
    "   font-size: 16px;\n",
    "   padding-right:80px;\n",
    "   text-align: justify;\n",
    "            '>\n",
    "    The binomial distribution is a probability distribution that summarizes the likelihood that a value will take one of two independent values under a given set of parameters or assumptions.<br>\n",
    "    The binomial distribution is a common discrete distribution used in statistics, as opposed to a continuous distribution, such as the normal distribution. This is because the binomial distribution only counts two states, typically represented as 1 (for a success) or 0 (for a failure) given a number of trials in the data. The binomial distribution thus represents the probability for x successes in n trials, given a success probability p for each trial.</p>"
   ]
  },
  {
   "cell_type": "code",
   "execution_count": 149,
   "metadata": {},
   "outputs": [
    {
     "name": "stdout",
     "output_type": "stream",
     "text": [
      "[0]\n",
      "[0 1 0 1 0 0 0 1 0 0]\n",
      "[1 1 2 1 2]\n",
      "the probability of 7 head in 10 trial of fair coin  0.11718750000000014\n",
      "the probability of less than or equal 7 head in 10 trial of fair coin  0.9453125\n"
     ]
    }
   ],
   "source": [
    "# import binormial distribution library\n",
    "from scipy.stats import binom\n",
    "\n",
    "#generate 1 trial of one fair coin\n",
    "print(binom.rvs(1, 0.5, size = 1))\n",
    "\n",
    "#generate 10 trial of one fair coin\n",
    "print(binom.rvs(1, 0.5, size = 10))\n",
    "\n",
    "#generate 5 trial of two fair coin\n",
    "print(binom.rvs(2, 0.5, size = 5))\n",
    "\n",
    "print('the probability of 7 head in 10 trial of fair coin ', binom.pmf(7, 10, 0.5))\n",
    "\n",
    "print('the probability of less than or equal 7 head in 10 trial of fair coin ', binom.cdf(7, 10, 0.5))\n"
   ]
  },
  {
   "cell_type": "markdown",
   "metadata": {},
   "source": [
    "### Poisson Distribution\n",
    "<p style = '\n",
    "   font-size: 16px;\n",
    "   padding-right:80px;\n",
    "   text-align: justify;\n",
    "            '>\n",
    "In statistics, a Poisson distribution is a probability distribution that is used to show how many times an event is likely to occur over a specified period. In other words, it is a count distribution. Poisson distributions are often used to understand independent events that occur at a constant rate within a given interval of time. It was named after French mathematician Siméon Denis Poisson.<br>\n",
    "A Poisson distribution can be used to estimate how likely it is that something will happen \"X\" number of times. For example, if the average number of people who buy cheeseburgers from a fast-food chain on a Friday night at a single restaurant location is 200, a Poisson distribution can answer questions such as, \"What is the probability that more than 300 people will buy burgers?\" The application of the Poisson distribution thereby enables managers to introduce optimal scheduling systems that would not work with, say, a normal distribution.<p>"
   ]
  },
  {
   "cell_type": "code",
   "execution_count": 151,
   "metadata": {},
   "outputs": [
    {
     "name": "stdout",
     "output_type": "stream",
     "text": [
      "0.09160366159257921\n",
      "0.19123606207962532\n"
     ]
    }
   ],
   "source": [
    "from scipy.stats import poisson\n",
    "\n",
    "#If the average number of adoption per week is 8, what is the P(# of adoption in a week = 5)?\n",
    "print(poisson.pmf(5, 8))\n",
    "\n",
    "\n",
    "# If the average number of adoption per week is 8,  what is the P(# of adoption in a week <= 5)?\n",
    "print(poisson.cdf(5, 8))"
   ]
  },
  {
   "cell_type": "markdown",
   "metadata": {},
   "source": [
    "<p style = '\n",
    "   font-size: 16px;\n",
    "   padding-right:80px;\n",
    "   text-align: justify;\n",
    "            '>We have covered some basic yet fundamental statistical concepts. If you are working or plan to work in the field of data science, you are likely to encounter these concepts.</p>"
   ]
  },
  {
   "cell_type": "code",
   "execution_count": null,
   "metadata": {},
   "outputs": [],
   "source": []
  }
 ],
 "metadata": {
  "kernelspec": {
   "display_name": "Python 3",
   "language": "python",
   "name": "python3"
  },
  "language_info": {
   "codemirror_mode": {
    "name": "ipython",
    "version": 3
   },
   "file_extension": ".py",
   "mimetype": "text/x-python",
   "name": "python",
   "nbconvert_exporter": "python",
   "pygments_lexer": "ipython3",
   "version": "3.8.5"
  }
 },
 "nbformat": 4,
 "nbformat_minor": 4
}
